{
 "cells": [
  {
   "cell_type": "code",
   "execution_count": 1,
   "metadata": {},
   "outputs": [],
   "source": [
    "# default_exp models.pretrained.lstm"
   ]
  },
  {
   "cell_type": "code",
   "execution_count": 2,
   "metadata": {},
   "outputs": [],
   "source": [
    "# all_func\n"
   ]
  },
  {
   "cell_type": "markdown",
   "metadata": {},
   "source": [
    "## fasta + BioPython"
   ]
  },
  {
   "cell_type": "code",
   "execution_count": 13,
   "metadata": {},
   "outputs": [],
   "source": [
    "from Bio import SeqIO\n",
    "from Bio.Seq import Seq\n",
    "from Bio.SeqRecord import SeqRecord\n",
    "\n",
    "import h5py\n",
    "\n",
    "import pandas as pd\n",
    "import numpy as np\n",
    "\n",
    "from peptide.basics import *\n",
    "from peptide.preprocessing.data import (\n",
    "    ProteinDataset,\n",
    "    ACPDataset,\n",
    "    AMPDataset,\n",
    "    DNABindDataset,\n",
    ")\n"
   ]
  },
  {
   "cell_type": "code",
   "execution_count": 4,
   "metadata": {},
   "outputs": [
    {
     "name": "stdout",
     "output_type": "stream",
     "text": [
      ">YP_025292.1 toxic membrane protein, small\n",
      "MKQHKAMIVALIVICITAVVAALVTRKDLCEVHIRTGQTEVAVF\n",
      "\n"
     ]
    }
   ],
   "source": [
    "record = SeqRecord(\n",
    "    Seq(\"MKQHKAMIVALIVICITAVVAALVTRKDLCEVHIRTGQTEVAVF\"),\n",
    "    id=\"YP_025292.1\",\n",
    "    name=\"HokC\",\n",
    "    description=\"toxic membrane protein, small\",\n",
    ")\n",
    "print(record.format('fasta'))"
   ]
  },
  {
   "cell_type": "code",
   "execution_count": 5,
   "metadata": {},
   "outputs": [
    {
     "data": {
      "text/plain": [
       "SeqRecord(seq=Seq('MKQHK'), id='YP_025292.1', name='HokC', description='toxic membrane protein, small', dbxrefs=[])"
      ]
     },
     "execution_count": 5,
     "metadata": {},
     "output_type": "execute_result"
    }
   ],
   "source": [
    "record[:5]"
   ]
  },
  {
   "cell_type": "code",
   "execution_count": 6,
   "metadata": {},
   "outputs": [],
   "source": [
    "acp_data = ACPDataset(DATA_STORE)\n",
    "amp_data = AMPDataset(DATA_STORE)\n",
    "dnabind_data = DNABindDataset(DATA_STORE)"
   ]
  },
  {
   "cell_type": "markdown",
   "metadata": {},
   "source": [
    "## ProSE"
   ]
  },
  {
   "cell_type": "markdown",
   "metadata": {},
   "source": [
    "Sample python commands to generate embeddings from pretrained model in the ProSE codebase"
   ]
  },
  {
   "cell_type": "markdown",
   "metadata": {},
   "source": [
    "**ACP**\n",
    "- Remove `-d 0` from command to run on CPU\n",
    "```\n",
    "python embed_sequences.py -d 0 --pool avg -o ~/.peptide/datasets/lstm/avg/acp_avgpool_test.h5 ~/.peptide/datasets/fasta/ACPDataset_test.fasta\n",
    "# loading the pre-trained ProSE MT model\n",
    "# writing: /home/vinod/.peptide/datasets/lstm/avg/acp_avgpool_test.h5\n",
    "# embedding with pool=avg\n",
    "```"
   ]
  },
  {
   "cell_type": "markdown",
   "metadata": {},
   "source": [
    "**AMP**\n",
    "- For AMP - some type of pooling needs to be done on the non-truncated sequences as `train` and `test` have different max seq lengths\n",
    "```\n",
    "python embed_sequences.py -d 0 --pool avg -o ~/.peptide/datasets/lstm/avg/amp_avgpool_train.h5 ~/.peptide/datasets/fasta/AMPDataset_train.fasta\n",
    "# loading the pre-trained ProSE MT model\n",
    "# writing: /home/vinod/.peptide/datasets/lstm/avg/amp_avgpool_train.h5\n",
    "# embedding with pool=avg\n",
    "```\n",
    "- Truncated\n",
    "```\n",
    "python embed_sequences.py -d 0 --pool avg -o ~/.peptide/datasets/lstm/avg/amp_avgpool_test_seqlen_150.h5 ~/.peptide/datasets/fasta/AMPDataset_test_seqlen_150.fasta\n",
    "# loading the pre-trained ProSE MT model\n",
    "# writing: /home/vinod/.peptide/datasets/lstm/avg/amp_avgpool_test_seqlen_150.h5\n",
    "# embedding with pool=avg\n",
    "```"
   ]
  },
  {
   "cell_type": "markdown",
   "metadata": {},
   "source": [
    "**DNA Binding**\n",
    "- Same as AMP - some pooling needed for the full non-truncated sequences\n",
    "```\n",
    "python embed_sequences.py -d 0 --pool avg -o ~/.peptide/datasets/lstm/avg/dnabind_avgpool_test.h5 ~/.peptide/datasets/fasta/DNABindDataset_test.fasta\n",
    "# loading the pre-trained ProSE MT model\n",
    "# writing: /home/vinod/.peptide/datasets/lstm/avg/dnabind_avgpool_test.h5\n",
    "# embedding with pool=avg\n",
    "```\n",
    "- Truncated example\n",
    "```\n",
    "python embed_sequences.py -d 0 --pool avg -o ~/.peptide/datasets/lstm/avg/dnabind_avgpool_train_seqlen_300.h5 ~/.peptide/datasets/fasta/DNABindDataset_train_seqlen_300.fasta\n",
    "# loading the pre-trained ProSE MT model\n",
    "# writing: /home/vinod/.peptide/datasets/lstm/avg/dnabind_avgpool_train_seqlen_300.h5\n",
    "# embedding with pool=avg\n",
    "```"
   ]
  },
  {
   "cell_type": "markdown",
   "metadata": {},
   "source": [
    "## H5"
   ]
  },
  {
   "cell_type": "code",
   "execution_count": 4,
   "metadata": {},
   "outputs": [],
   "source": [
    "filename = \"/home/vinod/.peptide/datasets/lstm/avg/acp_avgpool_test.h5\""
   ]
  },
  {
   "cell_type": "code",
   "execution_count": 5,
   "metadata": {},
   "outputs": [
    {
     "name": "stdout",
     "output_type": "stream",
     "text": [
      "Keys: <KeysViewHDF5 ['0 |0', '1 |0', '10 |1', '100 |0', '101 |0', '102 |1', '103 |1', '104 |0', '105 |1', '106 |0', '107 |0', '108 |0', '109 |1', '11 |0', '110 |0', '111 |0', '112 |1', '113 |1', '114 |0', '115 |1', '116 |0', '117 |0', '118 |1', '119 |1', '12 |0', '120 |0', '121 |1', '122 |0', '123 |0', '124 |1', '125 |0', '126 |0', '127 |1', '128 |0', '129 |1', '13 |1', '130 |1', '131 |1', '132 |1', '133 |0', '134 |0', '135 |1', '136 |0', '137 |1', '138 |0', '139 |0', '14 |1', '140 |0', '141 |1', '142 |0', '143 |1', '144 |0', '145 |0', '146 |1', '147 |0', '148 |1', '149 |0', '15 |1', '150 |0', '151 |0', '152 |1', '153 |1', '154 |1', '155 |1', '156 |0', '157 |1', '158 |0', '159 |0', '16 |1', '160 |1', '161 |1', '162 |0', '163 |1', '164 |1', '165 |1', '166 |1', '167 |1', '168 |0', '169 |0', '17 |0', '170 |0', '171 |0', '172 |0', '173 |0', '174 |1', '175 |1', '176 |1', '177 |0', '178 |1', '179 |1', '18 |1', '180 |1', '181 |1', '182 |1', '183 |1', '184 |1', '185 |1', '186 |0', '187 |0', '188 |1', '189 |0', '19 |1', '190 |1', '191 |0', '192 |1', '193 |0', '194 |0', '195 |0', '196 |1', '197 |1', '198 |0', '199 |0', '2 |0', '20 |0', '200 |0', '201 |1', '202 |0', '203 |0', '204 |1', '205 |0', '206 |0', '207 |0', '208 |1', '209 |0', '21 |0', '210 |1', '211 |1', '212 |0', '213 |0', '214 |1', '215 |0', '216 |0', '217 |0', '218 |0', '219 |0', '22 |0', '220 |0', '221 |0', '222 |0', '223 |0', '224 |1', '225 |0', '226 |0', '227 |1', '228 |1', '229 |0', '23 |0', '230 |1', '231 |0', '232 |1', '233 |1', '234 |0', '235 |1', '236 |1', '237 |1', '238 |0', '239 |0', '24 |1', '240 |1', '241 |0', '242 |1', '243 |1', '244 |1', '245 |1', '246 |1', '247 |1', '248 |1', '249 |0', '25 |1', '250 |0', '251 |1', '252 |0', '253 |1', '254 |0', '255 |1', '256 |1', '257 |0', '258 |1', '259 |0', '26 |0', '260 |1', '261 |0', '262 |1', '263 |0', '264 |1', '265 |0', '266 |1', '267 |1', '268 |0', '269 |0', '27 |1', '270 |0', '271 |0', '272 |1', '273 |0', '274 |0', '275 |1', '276 |0', '277 |1', '278 |0', '279 |1', '28 |0', '280 |0', '281 |0', '282 |1', '283 |1', '284 |1', '285 |1', '286 |0', '287 |1', '288 |0', '289 |0', '29 |1', '290 |0', '291 |1', '292 |1', '293 |0', '294 |0', '295 |1', '296 |0', '297 |1', '298 |1', '299 |0', '3 |1', '30 |1', '300 |1', '301 |1', '302 |1', '303 |1', '304 |0', '305 |1', '306 |1', '307 |0', '308 |1', '309 |1', '31 |1', '310 |1', '311 |0', '312 |0', '313 |0', '314 |0', '315 |1', '316 |0', '317 |1', '318 |0', '319 |0', '32 |0', '320 |1', '321 |1', '322 |1', '323 |0', '324 |0', '325 |1', '326 |1', '327 |1', '328 |0', '329 |0', '33 |1', '330 |0', '331 |0', '332 |0', '333 |0', '334 |1', '335 |1', '336 |1', '337 |0', '338 |1', '339 |0', '34 |1', '340 |0', '341 |1', '342 |0', '343 |1', '35 |0', '36 |1', '37 |1', '38 |0', '39 |1', '4 |0', '40 |1', '41 |1', '42 |1', '43 |0', '44 |0', '45 |0', '46 |1', '47 |0', '48 |0', '49 |1', '5 |0', '50 |1', '51 |0', '52 |1', '53 |1', '54 |0', '55 |0', '56 |0', '57 |1', '58 |1', '59 |1', '6 |1', '60 |0', '61 |1', '62 |0', '63 |0', '64 |1', '65 |1', '66 |1', '67 |0', '68 |1', '69 |1', '7 |1', '70 |1', '71 |1', '72 |1', '73 |0', '74 |0', '75 |0', '76 |0', '77 |1', '78 |1', '79 |0', '8 |1', '80 |0', '81 |0', '82 |1', '83 |1', '84 |0', '85 |1', '86 |0', '87 |1', '88 |0', '89 |0', '9 |0', '90 |1', '91 |1', '92 |0', '93 |0', '94 |1', '95 |0', '96 |0', '97 |1', '98 |0', '99 |0']>\n",
      "--\n",
      "<class 'h5py._hl.dataset.Dataset'>\n"
     ]
    }
   ],
   "source": [
    "\n",
    "with h5py.File(filename, \"r\") as f:\n",
    "    # Print all root level object names (aka keys) \n",
    "    # these can be group or dataset names \n",
    "    print(\"Keys: %s\" % f.keys())\n",
    "    print(\"--\")\n",
    "    # get first object name/key; may or may NOT be a group\n",
    "    a_group_key = list(f.keys())[1]\n",
    "\n",
    "    # get the object type for a_group_key: usually group or dataset\n",
    "    print(type(f[a_group_key])) \n",
    "\n",
    "    # If a_group_key is a group name, \n",
    "    # this gets the object names in the group and returns as a list\n",
    "    data = list(f[a_group_key])\n",
    "\n",
    "    # If a_group_key is a dataset name, \n",
    "    # this gets the dataset values and returns as a list\n",
    "    data = list(f[a_group_key])\n",
    "    # preferred methods to get dataset values:\n",
    "    ds_obj = f[a_group_key]      # returns as a h5py dataset object\n",
    "    ds_arr = f[a_group_key][()]  # returns as a numpy array"
   ]
  },
  {
   "cell_type": "code",
   "execution_count": 6,
   "metadata": {},
   "outputs": [
    {
     "data": {
      "text/plain": [
       "(6165,)"
      ]
     },
     "execution_count": 6,
     "metadata": {},
     "output_type": "execute_result"
    }
   ],
   "source": [
    "ds_arr.shape"
   ]
  },
  {
   "cell_type": "code",
   "execution_count": 7,
   "metadata": {},
   "outputs": [
    {
     "data": {
      "text/plain": [
       "array([ 0.04545455,  0.04545455,  0.11363637, ...,  0.09409132,\n",
       "       -0.05029086,  0.62466204], dtype=float32)"
      ]
     },
     "execution_count": 7,
     "metadata": {},
     "output_type": "execute_result"
    }
   ],
   "source": [
    "ds_arr"
   ]
  },
  {
   "cell_type": "code",
   "execution_count": 18,
   "metadata": {},
   "outputs": [],
   "source": [
    "ys = []\n",
    "Xs = []\n",
    "with h5py.File(filename, \"r\") as f:\n",
    "\n",
    "    for key in f.keys():\n",
    "        label = key.split('|')[-1]\n",
    "        ys.append(float(label))\n",
    "        seq = f[key][()]\n",
    "        Xs.append(seq)\n",
    "Xs = np.stack(Xs, axis=0)\n",
    "ys = np.stack(ys, axis=0)"
   ]
  },
  {
   "cell_type": "code",
   "execution_count": 19,
   "metadata": {},
   "outputs": [
    {
     "data": {
      "text/plain": [
       "((344, 6165), (344,))"
      ]
     },
     "execution_count": 19,
     "metadata": {},
     "output_type": "execute_result"
    }
   ],
   "source": [
    "Xs.shape, ys.shape"
   ]
  },
  {
   "cell_type": "code",
   "execution_count": 20,
   "metadata": {},
   "outputs": [
    {
     "data": {
      "text/plain": [
       "array([[ 0.05      ,  0.        ,  0.        , ...,  0.12216329,\n",
       "        -0.27930424, -0.04172204],\n",
       "       [ 0.04545455,  0.04545455,  0.11363637, ...,  0.09409132,\n",
       "        -0.05029086,  0.62466204],\n",
       "       [ 0.06666667,  0.        ,  0.        , ..., -0.06018177,\n",
       "        -0.05313366,  0.00379704],\n",
       "       ...,\n",
       "       [ 0.2631579 ,  0.        ,  0.        , ..., -0.1341106 ,\n",
       "        -0.0427261 , -0.12614213],\n",
       "       [ 0.125     ,  0.15625   ,  0.0625    , ..., -0.01764085,\n",
       "         0.05235878,  0.02743137],\n",
       "       [ 0.06666667,  0.06666667,  0.06666667, ..., -0.03098731,\n",
       "        -0.05793136, -0.06837866]], dtype=float32)"
      ]
     },
     "execution_count": 20,
     "metadata": {},
     "output_type": "execute_result"
    }
   ],
   "source": [
    "Xs"
   ]
  },
  {
   "cell_type": "code",
   "execution_count": 21,
   "metadata": {},
   "outputs": [
    {
     "data": {
      "text/plain": [
       "array([0., 0., 1., 0., 0., 1., 1., 0., 1., 0., 0., 0., 1., 0., 0., 0., 1.,\n",
       "       1., 0., 1., 0., 0., 1., 1., 0., 0., 1., 0., 0., 1., 0., 0., 1., 0.,\n",
       "       1., 1., 1., 1., 1., 0., 0., 1., 0., 1., 0., 0., 1., 0., 1., 0., 1.,\n",
       "       0., 0., 1., 0., 1., 0., 1., 0., 0., 1., 1., 1., 1., 0., 1., 0., 0.,\n",
       "       1., 1., 1., 0., 1., 1., 1., 1., 1., 0., 0., 0., 0., 0., 0., 0., 1.,\n",
       "       1., 1., 0., 1., 1., 1., 1., 1., 1., 1., 1., 1., 0., 0., 1., 0., 1.,\n",
       "       1., 0., 1., 0., 0., 0., 1., 1., 0., 0., 0., 0., 0., 1., 0., 0., 1.,\n",
       "       0., 0., 0., 1., 0., 0., 1., 1., 0., 0., 1., 0., 0., 0., 0., 0., 0.,\n",
       "       0., 0., 0., 0., 1., 0., 0., 1., 1., 0., 0., 1., 0., 1., 1., 0., 1.,\n",
       "       1., 1., 0., 0., 1., 1., 0., 1., 1., 1., 1., 1., 1., 1., 0., 1., 0.,\n",
       "       1., 0., 1., 0., 1., 1., 0., 1., 0., 0., 1., 0., 1., 0., 1., 0., 1.,\n",
       "       1., 0., 0., 1., 0., 0., 1., 0., 0., 1., 0., 1., 0., 1., 0., 0., 0.,\n",
       "       1., 1., 1., 1., 0., 1., 0., 0., 1., 0., 1., 1., 0., 0., 1., 0., 1.,\n",
       "       1., 0., 1., 1., 1., 1., 1., 1., 0., 1., 1., 0., 1., 1., 1., 1., 0.,\n",
       "       0., 0., 0., 1., 0., 1., 0., 0., 0., 1., 1., 1., 0., 0., 1., 1., 1.,\n",
       "       0., 0., 1., 0., 0., 0., 0., 1., 1., 1., 0., 1., 0., 1., 0., 1., 0.,\n",
       "       1., 0., 1., 1., 0., 1., 0., 1., 1., 1., 0., 0., 0., 1., 0., 0., 1.,\n",
       "       0., 1., 0., 1., 1., 0., 0., 0., 1., 1., 1., 1., 0., 1., 0., 0., 1.,\n",
       "       1., 1., 0., 1., 1., 1., 1., 1., 1., 0., 0., 0., 0., 1., 1., 0., 1.,\n",
       "       0., 0., 1., 1., 0., 1., 0., 1., 0., 0., 0., 1., 1., 0., 0., 1., 0.,\n",
       "       0., 1., 0., 0.])"
      ]
     },
     "execution_count": 21,
     "metadata": {},
     "output_type": "execute_result"
    }
   ],
   "source": [
    "ys"
   ]
  },
  {
   "cell_type": "code",
   "execution_count": null,
   "metadata": {},
   "outputs": [],
   "source": []
  }
 ],
 "metadata": {
  "kernelspec": {
   "display_name": "Python 3.9.13 ('peptide')",
   "language": "python",
   "name": "python3"
  },
  "language_info": {
   "codemirror_mode": {
    "name": "ipython",
    "version": 3
   },
   "file_extension": ".py",
   "mimetype": "text/x-python",
   "name": "python",
   "nbconvert_exporter": "python",
   "pygments_lexer": "ipython3",
   "version": "3.9.13"
  },
  "orig_nbformat": 4,
  "vscode": {
   "interpreter": {
    "hash": "ed1fe5d2b8444463e19b00657a175b9cae3e282d841010e10efaed3bb2bffc1a"
   }
  }
 },
 "nbformat": 4,
 "nbformat_minor": 2
}
