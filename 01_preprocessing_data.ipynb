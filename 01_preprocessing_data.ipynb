{
 "cells": [
  {
   "cell_type": "code",
   "execution_count": null,
   "id": "7ab52aa1",
   "metadata": {},
   "outputs": [],
   "source": [
    "# default_exp preprocessing.data"
   ]
  },
  {
   "cell_type": "code",
   "execution_count": null,
   "id": "fb7d9e30",
   "metadata": {},
   "outputs": [],
   "source": [
    "#all_slow"
   ]
  },
  {
   "cell_type": "markdown",
   "id": "24237a74",
   "metadata": {},
   "source": [
    "# Data\n",
    "\n",
    "> Classes and functions to load dataset, clean and save for further processing & vocab creation."
   ]
  },
  {
   "cell_type": "code",
   "execution_count": null,
   "id": "86ea3cc8-0b24-43a0-bdea-c64f20270cd8",
   "metadata": {},
   "outputs": [],
   "source": [
    "import pandas as pd\n",
    "import os"
   ]
  },
  {
   "cell_type": "markdown",
   "id": "f7981a54",
   "metadata": {},
   "source": [
    "## Analyze Data\n",
    "- Load all 3 datasets\n",
    "- Merge into single df?\n",
    "- Look for class imbalance\n",
    "- Clean\n",
    "- Split"
   ]
  },
  {
   "cell_type": "code",
   "execution_count": null,
   "id": "710df725",
   "metadata": {},
   "outputs": [
    {
     "data": {
      "text/plain": [
       "['.DS_Store', 'dna_binding', 'amp', 'acp']"
      ]
     },
     "execution_count": null,
     "metadata": {},
     "output_type": "execute_result"
    }
   ],
   "source": [
    "DATASTORE = '/Users/Vinod/code/datasets/peptide'\n",
    "os.listdir(DATASTORE)"
   ]
  },
  {
   "cell_type": "code",
   "execution_count": null,
   "id": "9fb64e84",
   "metadata": {},
   "outputs": [],
   "source": [
    "os.listdir(f'{DATASTORE}')"
   ]
  },
  {
   "cell_type": "code",
   "execution_count": null,
   "id": "12568ce8",
   "metadata": {},
   "outputs": [],
   "source": []
  },
  {
   "cell_type": "code",
   "execution_count": null,
   "id": "aa446e7a",
   "metadata": {},
   "outputs": [],
   "source": [
    "amp_df = pd.read_csv(f'{DATASTORE}/amp/')"
   ]
  },
  {
   "cell_type": "code",
   "execution_count": null,
   "id": "812c2d2e",
   "metadata": {},
   "outputs": [],
   "source": []
  }
 ],
 "metadata": {
  "kernelspec": {
   "display_name": "Python 3.9.12 ('peptide')",
   "language": "python",
   "name": "python3"
  }
 },
 "nbformat": 4,
 "nbformat_minor": 5
}
