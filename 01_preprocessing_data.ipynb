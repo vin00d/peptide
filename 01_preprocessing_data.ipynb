{
 "cells": [
  {
   "cell_type": "code",
   "execution_count": null,
   "id": "7ab52aa1",
   "metadata": {},
   "outputs": [],
   "source": [
    "# default_exp preprocessing.data\n"
   ]
  },
  {
   "cell_type": "code",
   "execution_count": null,
   "id": "52e29651",
   "metadata": {},
   "outputs": [],
   "source": [
    "# all_func\n"
   ]
  },
  {
   "cell_type": "markdown",
   "id": "24237a74",
   "metadata": {},
   "source": [
    "# Data\n",
    "\n",
    "> Classes and functions to load dataset, clean and save for further processing & vocab creation."
   ]
  },
  {
   "cell_type": "code",
   "execution_count": 20,
   "id": "86ea3cc8-0b24-43a0-bdea-c64f20270cd8",
   "metadata": {},
   "outputs": [],
   "source": [
    "# export\n",
    "from peptide.basics import *\n",
    "\n",
    "from collections import Counter\n",
    "from abc import ABC, abstractmethod\n",
    "\n",
    "import pandas as pd\n",
    "import numpy as np\n",
    "import os\n",
    "\n",
    "import matplotlib.pyplot as plt\n",
    "import seaborn as sns\n"
   ]
  },
  {
   "cell_type": "markdown",
   "id": "f7981a54",
   "metadata": {},
   "source": [
    "## Analyze Data\n",
    "- Load all 3 datasets\n",
    "- Merge into single df?\n",
    "- Look for class imbalance\n",
    "- Clean\n",
    "- Split"
   ]
  },
  {
   "cell_type": "code",
   "execution_count": null,
   "id": "710df725",
   "metadata": {},
   "outputs": [
    {
     "data": {
      "text/plain": [
       "'/Users/Vinod/.peptide/datasets'"
      ]
     },
     "execution_count": null,
     "metadata": {},
     "output_type": "execute_result"
    }
   ],
   "source": [
    "DATA_STORE\n"
   ]
  },
  {
   "cell_type": "code",
   "execution_count": null,
   "id": "9fb64e84",
   "metadata": {},
   "outputs": [
    {
     "data": {
      "text/plain": [
       "['.DS_Store', 'dna_binding', 'amp', 'acp']"
      ]
     },
     "execution_count": null,
     "metadata": {},
     "output_type": "execute_result"
    }
   ],
   "source": [
    "os.listdir(f\"{DATA_STORE}\")\n"
   ]
  },
  {
   "cell_type": "markdown",
   "id": "2f9824a2",
   "metadata": {},
   "source": [
    "### Anti Cancer Peptide Dataset (ACP)"
   ]
  },
  {
   "cell_type": "code",
   "execution_count": null,
   "id": "d20576d3",
   "metadata": {},
   "outputs": [
    {
     "data": {
      "text/plain": [
       "['train_data.csv', 'test_data.csv']"
      ]
     },
     "execution_count": null,
     "metadata": {},
     "output_type": "execute_result"
    }
   ],
   "source": [
    "os.listdir(f\"{DATA_STORE}/acp\")\n"
   ]
  },
  {
   "cell_type": "code",
   "execution_count": null,
   "id": "f2ef5cf6",
   "metadata": {},
   "outputs": [],
   "source": [
    "raw_acp_train_df = pd.read_csv(f\"{DATA_STORE}/acp/train_data.csv\")\n",
    "raw_acp_test_df = pd.read_csv(f\"{DATA_STORE}/acp/test_data.csv\")\n"
   ]
  },
  {
   "cell_type": "code",
   "execution_count": null,
   "id": "ddba5378",
   "metadata": {},
   "outputs": [
    {
     "data": {
      "text/html": [
       "<div>\n",
       "<style scoped>\n",
       "    .dataframe tbody tr th:only-of-type {\n",
       "        vertical-align: middle;\n",
       "    }\n",
       "\n",
       "    .dataframe tbody tr th {\n",
       "        vertical-align: top;\n",
       "    }\n",
       "\n",
       "    .dataframe thead th {\n",
       "        text-align: right;\n",
       "    }\n",
       "</style>\n",
       "<table border=\"1\" class=\"dataframe\">\n",
       "  <thead>\n",
       "    <tr style=\"text-align: right;\">\n",
       "      <th></th>\n",
       "      <th>sequences</th>\n",
       "      <th>label</th>\n",
       "    </tr>\n",
       "  </thead>\n",
       "  <tbody>\n",
       "    <tr>\n",
       "      <th>0</th>\n",
       "      <td>RRWWRRWRRW</td>\n",
       "      <td>0</td>\n",
       "    </tr>\n",
       "    <tr>\n",
       "      <th>1</th>\n",
       "      <td>GWKSVFRKAKKVGKTVGGLALDHYLG</td>\n",
       "      <td>0</td>\n",
       "    </tr>\n",
       "    <tr>\n",
       "      <th>2</th>\n",
       "      <td>ALWKTMLKKLGTMALHAGKAALGAAADTISQGTQ</td>\n",
       "      <td>1</td>\n",
       "    </tr>\n",
       "    <tr>\n",
       "      <th>3</th>\n",
       "      <td>GLFDVIKKVAAVIGGL</td>\n",
       "      <td>1</td>\n",
       "    </tr>\n",
       "    <tr>\n",
       "      <th>4</th>\n",
       "      <td>VAKLLAKLAKKVL</td>\n",
       "      <td>1</td>\n",
       "    </tr>\n",
       "  </tbody>\n",
       "</table>\n",
       "</div>"
      ],
      "text/plain": [
       "                            sequences  label\n",
       "0                          RRWWRRWRRW      0\n",
       "1          GWKSVFRKAKKVGKTVGGLALDHYLG      0\n",
       "2  ALWKTMLKKLGTMALHAGKAALGAAADTISQGTQ      1\n",
       "3                    GLFDVIKKVAAVIGGL      1\n",
       "4                       VAKLLAKLAKKVL      1"
      ]
     },
     "metadata": {},
     "output_type": "display_data"
    },
    {
     "data": {
      "text/html": [
       "<div>\n",
       "<style scoped>\n",
       "    .dataframe tbody tr th:only-of-type {\n",
       "        vertical-align: middle;\n",
       "    }\n",
       "\n",
       "    .dataframe tbody tr th {\n",
       "        vertical-align: top;\n",
       "    }\n",
       "\n",
       "    .dataframe thead th {\n",
       "        text-align: right;\n",
       "    }\n",
       "</style>\n",
       "<table border=\"1\" class=\"dataframe\">\n",
       "  <thead>\n",
       "    <tr style=\"text-align: right;\">\n",
       "      <th></th>\n",
       "      <th>sequences</th>\n",
       "      <th>label</th>\n",
       "    </tr>\n",
       "  </thead>\n",
       "  <tbody>\n",
       "    <tr>\n",
       "      <th>0</th>\n",
       "      <td>FLPLLLSALPSFLCLVFKKC</td>\n",
       "      <td>0</td>\n",
       "    </tr>\n",
       "    <tr>\n",
       "      <th>1</th>\n",
       "      <td>DKLIGSCVWLAVNYTSNCNAECKRRGYKGGHCGSFLNVNCWCET</td>\n",
       "      <td>0</td>\n",
       "    </tr>\n",
       "    <tr>\n",
       "      <th>2</th>\n",
       "      <td>AVKDTYSCFIMRGKCRHECHDFEKPIGFCTKLNANCYM</td>\n",
       "      <td>0</td>\n",
       "    </tr>\n",
       "    <tr>\n",
       "      <th>3</th>\n",
       "      <td>GLPTCGETCFGGTCNTPGCTCDPWPVCTHN</td>\n",
       "      <td>1</td>\n",
       "    </tr>\n",
       "    <tr>\n",
       "      <th>4</th>\n",
       "      <td>ENCGRQAG</td>\n",
       "      <td>0</td>\n",
       "    </tr>\n",
       "  </tbody>\n",
       "</table>\n",
       "</div>"
      ],
      "text/plain": [
       "                                      sequences  label\n",
       "0                          FLPLLLSALPSFLCLVFKKC      0\n",
       "1  DKLIGSCVWLAVNYTSNCNAECKRRGYKGGHCGSFLNVNCWCET      0\n",
       "2        AVKDTYSCFIMRGKCRHECHDFEKPIGFCTKLNANCYM      0\n",
       "3                GLPTCGETCFGGTCNTPGCTCDPWPVCTHN      1\n",
       "4                                      ENCGRQAG      0"
      ]
     },
     "metadata": {},
     "output_type": "display_data"
    }
   ],
   "source": [
    "for df in [raw_acp_train_df, raw_acp_test_df]:\n",
    "    display(df.head(5))\n"
   ]
  },
  {
   "cell_type": "code",
   "execution_count": null,
   "id": "ddba5378",
   "metadata": {},
   "outputs": [
    {
     "data": {
      "text/html": [
       "<div>\n",
       "<style scoped>\n",
       "    .dataframe tbody tr th:only-of-type {\n",
       "        vertical-align: middle;\n",
       "    }\n",
       "\n",
       "    .dataframe tbody tr th {\n",
       "        vertical-align: top;\n",
       "    }\n",
       "\n",
       "    .dataframe thead th {\n",
       "        text-align: right;\n",
       "    }\n",
       "</style>\n",
       "<table border=\"1\" class=\"dataframe\">\n",
       "  <thead>\n",
       "    <tr style=\"text-align: right;\">\n",
       "      <th></th>\n",
       "      <th>count</th>\n",
       "      <th>mean</th>\n",
       "      <th>std</th>\n",
       "      <th>min</th>\n",
       "      <th>25%</th>\n",
       "      <th>50%</th>\n",
       "      <th>75%</th>\n",
       "      <th>max</th>\n",
       "    </tr>\n",
       "  </thead>\n",
       "  <tbody>\n",
       "    <tr>\n",
       "      <th>label</th>\n",
       "      <td>1378.0</td>\n",
       "      <td>0.5</td>\n",
       "      <td>0.500182</td>\n",
       "      <td>0.0</td>\n",
       "      <td>0.0</td>\n",
       "      <td>0.5</td>\n",
       "      <td>1.0</td>\n",
       "      <td>1.0</td>\n",
       "    </tr>\n",
       "  </tbody>\n",
       "</table>\n",
       "</div>"
      ],
      "text/plain": [
       "        count  mean       std  min  25%  50%  75%  max\n",
       "label  1378.0   0.5  0.500182  0.0  0.0  0.5  1.0  1.0"
      ]
     },
     "metadata": {},
     "output_type": "display_data"
    },
    {
     "data": {
      "text/html": [
       "<div>\n",
       "<style scoped>\n",
       "    .dataframe tbody tr th:only-of-type {\n",
       "        vertical-align: middle;\n",
       "    }\n",
       "\n",
       "    .dataframe tbody tr th {\n",
       "        vertical-align: top;\n",
       "    }\n",
       "\n",
       "    .dataframe thead th {\n",
       "        text-align: right;\n",
       "    }\n",
       "</style>\n",
       "<table border=\"1\" class=\"dataframe\">\n",
       "  <thead>\n",
       "    <tr style=\"text-align: right;\">\n",
       "      <th></th>\n",
       "      <th>count</th>\n",
       "      <th>mean</th>\n",
       "      <th>std</th>\n",
       "      <th>min</th>\n",
       "      <th>25%</th>\n",
       "      <th>50%</th>\n",
       "      <th>75%</th>\n",
       "      <th>max</th>\n",
       "    </tr>\n",
       "  </thead>\n",
       "  <tbody>\n",
       "    <tr>\n",
       "      <th>label</th>\n",
       "      <td>344.0</td>\n",
       "      <td>0.5</td>\n",
       "      <td>0.500728</td>\n",
       "      <td>0.0</td>\n",
       "      <td>0.0</td>\n",
       "      <td>0.5</td>\n",
       "      <td>1.0</td>\n",
       "      <td>1.0</td>\n",
       "    </tr>\n",
       "  </tbody>\n",
       "</table>\n",
       "</div>"
      ],
      "text/plain": [
       "       count  mean       std  min  25%  50%  75%  max\n",
       "label  344.0   0.5  0.500728  0.0  0.0  0.5  1.0  1.0"
      ]
     },
     "metadata": {},
     "output_type": "display_data"
    }
   ],
   "source": [
    "for df in [raw_acp_train_df, raw_acp_test_df]:\n",
    "    display(df.describe().T)\n"
   ]
  },
  {
   "cell_type": "code",
   "execution_count": null,
   "id": "e32e37dc",
   "metadata": {},
   "outputs": [
    {
     "name": "stdout",
     "output_type": "stream",
     "text": [
      "Train:  50.00%\n",
      "Test:  50.00%\n"
     ]
    }
   ],
   "source": [
    "print(f\"Train: {raw_acp_train_df.label.sum() / len(raw_acp_train_df) : .2%}\")\n",
    "print(f\"Test: {raw_acp_test_df.label.sum() / len(raw_acp_test_df) : .2%}\")\n"
   ]
  },
  {
   "cell_type": "markdown",
   "id": "ebb59e79",
   "metadata": {},
   "source": [
    "Class split is 50 - 50"
   ]
  },
  {
   "cell_type": "code",
   "execution_count": null,
   "id": "928d0aff",
   "metadata": {},
   "outputs": [
    {
     "data": {
      "text/plain": [
       "0.1997677119628339"
      ]
     },
     "execution_count": null,
     "metadata": {},
     "output_type": "execute_result"
    }
   ],
   "source": [
    "len(raw_acp_test_df) / (len(raw_acp_train_df) + len(raw_acp_test_df))\n"
   ]
  },
  {
   "cell_type": "markdown",
   "id": "76139dc2",
   "metadata": {},
   "source": [
    "Train / Test split in the total dataset \n",
    "- Test ~ 20%\n",
    "- Train ~ 80%"
   ]
  },
  {
   "cell_type": "code",
   "execution_count": null,
   "id": "535e072f",
   "metadata": {},
   "outputs": [],
   "source": [
    "def get_acp_data():\n",
    "    \"\"\"Load, clean and return ACP train and test dataframes\"\"\"\n",
    "\n",
    "    acp_train_df = pd.read_csv(f\"{DATA_STORE}/acp/train_data.csv\")\n",
    "    acp_test_df = pd.read_csv(f\"{DATA_STORE}/acp/test_data.csv\")\n",
    "\n",
    "    acp_train_df.rename(\n",
    "        columns={\"sequences\": \"sequence\", \"label\": \"label_acp\"}, inplace=True\n",
    "    )\n",
    "    acp_test_df.rename(\n",
    "        columns={\"sequences\": \"sequence\", \"label\": \"label_acp\"}, inplace=True\n",
    "    )\n",
    "\n",
    "    return acp_train_df, acp_test_df\n"
   ]
  },
  {
   "cell_type": "markdown",
   "id": "dc2c105f",
   "metadata": {},
   "source": [
    "### Antimicrobial Peptide Dataset (AMP)"
   ]
  },
  {
   "cell_type": "code",
   "execution_count": null,
   "id": "d20576d3",
   "metadata": {},
   "outputs": [
    {
     "data": {
      "text/plain": [
       "['all_data.csv']"
      ]
     },
     "execution_count": null,
     "metadata": {},
     "output_type": "execute_result"
    }
   ],
   "source": [
    "os.listdir(f\"{DATA_STORE}/amp\")\n"
   ]
  },
  {
   "cell_type": "code",
   "execution_count": null,
   "id": "f2ef5cf6",
   "metadata": {},
   "outputs": [],
   "source": [
    "raw_amp_df = pd.read_csv(f\"{DATA_STORE}/amp/all_data.csv\")\n"
   ]
  },
  {
   "cell_type": "code",
   "execution_count": null,
   "id": "15be65a3",
   "metadata": {},
   "outputs": [
    {
     "data": {
      "text/html": [
       "<div>\n",
       "<style scoped>\n",
       "    .dataframe tbody tr th:only-of-type {\n",
       "        vertical-align: middle;\n",
       "    }\n",
       "\n",
       "    .dataframe tbody tr th {\n",
       "        vertical-align: top;\n",
       "    }\n",
       "\n",
       "    .dataframe thead th {\n",
       "        text-align: right;\n",
       "    }\n",
       "</style>\n",
       "<table border=\"1\" class=\"dataframe\">\n",
       "  <thead>\n",
       "    <tr style=\"text-align: right;\">\n",
       "      <th></th>\n",
       "      <th>PDBs_code</th>\n",
       "      <th>SequenceID</th>\n",
       "      <th>label</th>\n",
       "    </tr>\n",
       "  </thead>\n",
       "  <tbody>\n",
       "    <tr>\n",
       "      <th>0</th>\n",
       "      <td>AP02484</td>\n",
       "      <td>GMASKAGSVLGKITKIALGAL</td>\n",
       "      <td>1</td>\n",
       "    </tr>\n",
       "    <tr>\n",
       "      <th>1</th>\n",
       "      <td>AP02630</td>\n",
       "      <td>NIGLFTSTCFSSQCFSSKCFTDTCFSSNCFTGRHQCGYTHGSC</td>\n",
       "      <td>1</td>\n",
       "    </tr>\n",
       "    <tr>\n",
       "      <th>2</th>\n",
       "      <td>AP01427</td>\n",
       "      <td>GAIKDALKGAAKTVAVELLKKAQCKLEKTC</td>\n",
       "      <td>1</td>\n",
       "    </tr>\n",
       "    <tr>\n",
       "      <th>3</th>\n",
       "      <td>AP02983</td>\n",
       "      <td>FFGRLKAVFRGARQGWKEHRY</td>\n",
       "      <td>1</td>\n",
       "    </tr>\n",
       "    <tr>\n",
       "      <th>4</th>\n",
       "      <td>AP01815</td>\n",
       "      <td>DFGCARGMIFVCMRRCARMYPGSTGYCQGFRCMCDTMIPIRRPPFIMG</td>\n",
       "      <td>1</td>\n",
       "    </tr>\n",
       "  </tbody>\n",
       "</table>\n",
       "</div>"
      ],
      "text/plain": [
       "  PDBs_code                                        SequenceID  label\n",
       "0   AP02484                             GMASKAGSVLGKITKIALGAL      1\n",
       "1   AP02630       NIGLFTSTCFSSQCFSSKCFTDTCFSSNCFTGRHQCGYTHGSC      1\n",
       "2   AP01427                    GAIKDALKGAAKTVAVELLKKAQCKLEKTC      1\n",
       "3   AP02983                             FFGRLKAVFRGARQGWKEHRY      1\n",
       "4   AP01815  DFGCARGMIFVCMRRCARMYPGSTGYCQGFRCMCDTMIPIRRPPFIMG      1"
      ]
     },
     "execution_count": null,
     "metadata": {},
     "output_type": "execute_result"
    }
   ],
   "source": [
    "raw_amp_df.head(5)\n"
   ]
  },
  {
   "cell_type": "code",
   "execution_count": null,
   "id": "8a22918d",
   "metadata": {},
   "outputs": [
    {
     "data": {
      "text/html": [
       "<div>\n",
       "<style scoped>\n",
       "    .dataframe tbody tr th:only-of-type {\n",
       "        vertical-align: middle;\n",
       "    }\n",
       "\n",
       "    .dataframe tbody tr th {\n",
       "        vertical-align: top;\n",
       "    }\n",
       "\n",
       "    .dataframe thead th {\n",
       "        text-align: right;\n",
       "    }\n",
       "</style>\n",
       "<table border=\"1\" class=\"dataframe\">\n",
       "  <thead>\n",
       "    <tr style=\"text-align: right;\">\n",
       "      <th></th>\n",
       "      <th>count</th>\n",
       "      <th>mean</th>\n",
       "      <th>std</th>\n",
       "      <th>min</th>\n",
       "      <th>25%</th>\n",
       "      <th>50%</th>\n",
       "      <th>75%</th>\n",
       "      <th>max</th>\n",
       "    </tr>\n",
       "  </thead>\n",
       "  <tbody>\n",
       "    <tr>\n",
       "      <th>label</th>\n",
       "      <td>4042.0</td>\n",
       "      <td>0.5</td>\n",
       "      <td>0.500062</td>\n",
       "      <td>0.0</td>\n",
       "      <td>0.0</td>\n",
       "      <td>0.5</td>\n",
       "      <td>1.0</td>\n",
       "      <td>1.0</td>\n",
       "    </tr>\n",
       "  </tbody>\n",
       "</table>\n",
       "</div>"
      ],
      "text/plain": [
       "        count  mean       std  min  25%  50%  75%  max\n",
       "label  4042.0   0.5  0.500062  0.0  0.0  0.5  1.0  1.0"
      ]
     },
     "execution_count": null,
     "metadata": {},
     "output_type": "execute_result"
    }
   ],
   "source": [
    "raw_amp_df.describe().T\n"
   ]
  },
  {
   "cell_type": "code",
   "execution_count": null,
   "id": "ae541d5c",
   "metadata": {},
   "outputs": [
    {
     "data": {
      "text/plain": [
       "0.5"
      ]
     },
     "execution_count": null,
     "metadata": {},
     "output_type": "execute_result"
    }
   ],
   "source": [
    "raw_amp_df.label.sum() / len(raw_amp_df)\n"
   ]
  },
  {
   "cell_type": "markdown",
   "id": "8a492627",
   "metadata": {},
   "source": [
    "- Class distribution is 50%\n",
    "- Splitting into train (80%) and test (20%)"
   ]
  },
  {
   "cell_type": "code",
   "execution_count": null,
   "id": "535e072f",
   "metadata": {},
   "outputs": [],
   "source": [
    "def get_amp_data(test_pct=0.2, seed=1234):\n",
    "    \"\"\"Load, clean, split and return AMP train and test dataframes\"\"\"\n",
    "\n",
    "    amp_df = pd.read_csv(f\"{DATA_STORE}/amp/all_data.csv\")\n",
    "\n",
    "    amp_df.drop(columns=[\"PDBs_code\"], inplace=True)\n",
    "    amp_df.rename(\n",
    "        columns={\"SequenceID\": \"sequence\", \"label\": \"label_amp\"}, inplace=True\n",
    "    )\n",
    "\n",
    "    amp_test_df = amp_df.sample(frac=test_pct, random_state=seed)\n",
    "    amp_train_df = amp_df.drop(amp_test_df.index)\n",
    "\n",
    "    return amp_train_df, amp_test_df\n"
   ]
  },
  {
   "cell_type": "markdown",
   "id": "da971226",
   "metadata": {},
   "source": [
    "### DNA-Binding Protein Dataset"
   ]
  },
  {
   "cell_type": "code",
   "execution_count": null,
   "id": "d20576d3",
   "metadata": {},
   "outputs": [
    {
     "data": {
      "text/plain": [
       "['test.csv', 'train.csv']"
      ]
     },
     "execution_count": null,
     "metadata": {},
     "output_type": "execute_result"
    }
   ],
   "source": [
    "os.listdir(f\"{DATA_STORE}/dna_binding\")\n"
   ]
  },
  {
   "cell_type": "code",
   "execution_count": null,
   "id": "f2ef5cf6",
   "metadata": {},
   "outputs": [],
   "source": [
    "raw_dnab_train_df = pd.read_csv(f\"{DATA_STORE}/dna_binding/train.csv\")\n",
    "raw_dnab_test_df = pd.read_csv(f\"{DATA_STORE}/dna_binding/test.csv\")\n"
   ]
  },
  {
   "cell_type": "code",
   "execution_count": null,
   "id": "ddba5378",
   "metadata": {},
   "outputs": [
    {
     "data": {
      "text/html": [
       "<div>\n",
       "<style scoped>\n",
       "    .dataframe tbody tr th:only-of-type {\n",
       "        vertical-align: middle;\n",
       "    }\n",
       "\n",
       "    .dataframe tbody tr th {\n",
       "        vertical-align: top;\n",
       "    }\n",
       "\n",
       "    .dataframe thead th {\n",
       "        text-align: right;\n",
       "    }\n",
       "</style>\n",
       "<table border=\"1\" class=\"dataframe\">\n",
       "  <thead>\n",
       "    <tr style=\"text-align: right;\">\n",
       "      <th></th>\n",
       "      <th>code</th>\n",
       "      <th>sequence</th>\n",
       "      <th>label</th>\n",
       "      <th>origin</th>\n",
       "    </tr>\n",
       "  </thead>\n",
       "  <tbody>\n",
       "    <tr>\n",
       "      <th>0</th>\n",
       "      <td>Q6A8L0</td>\n",
       "      <td>MSGHSKWATTKHKKAAIDAKRGKLFARLIKNIEVAARLGGGDPSGN...</td>\n",
       "      <td>1</td>\n",
       "      <td>https://github.com/hfuulgb/PDB-Fusion/tree/mai...</td>\n",
       "    </tr>\n",
       "    <tr>\n",
       "      <th>1</th>\n",
       "      <td>Q7V7T9</td>\n",
       "      <td>MIGWLQGQKVEAWQQGTRQGVVLACAGVGYEVQIAPRHLSEMEHGQ...</td>\n",
       "      <td>1</td>\n",
       "      <td>https://github.com/hfuulgb/PDB-Fusion/tree/mai...</td>\n",
       "    </tr>\n",
       "    <tr>\n",
       "      <th>2</th>\n",
       "      <td>Q9ZUP2</td>\n",
       "      <td>MARILRNVYSLRSSLFSSELLRRSVVGTSFQLRGFAAKAKKKSKSD...</td>\n",
       "      <td>1</td>\n",
       "      <td>https://github.com/hfuulgb/PDB-Fusion/tree/mai...</td>\n",
       "    </tr>\n",
       "    <tr>\n",
       "      <th>3</th>\n",
       "      <td>Q2JVG1</td>\n",
       "      <td>MKCPRCGKQEIRVLESRSAEGGQSVRRRRECMSCGYRFTTYERIEF...</td>\n",
       "      <td>1</td>\n",
       "      <td>https://github.com/hfuulgb/PDB-Fusion/tree/mai...</td>\n",
       "    </tr>\n",
       "    <tr>\n",
       "      <th>4</th>\n",
       "      <td>Q9K4Q3</td>\n",
       "      <td>MTKADIIEGVYEKVGFSKKESAEIVELVFDTLKETLERGDKIKISG...</td>\n",
       "      <td>1</td>\n",
       "      <td>https://github.com/hfuulgb/PDB-Fusion/tree/mai...</td>\n",
       "    </tr>\n",
       "  </tbody>\n",
       "</table>\n",
       "</div>"
      ],
      "text/plain": [
       "     code                                           sequence  label  \\\n",
       "0  Q6A8L0  MSGHSKWATTKHKKAAIDAKRGKLFARLIKNIEVAARLGGGDPSGN...      1   \n",
       "1  Q7V7T9  MIGWLQGQKVEAWQQGTRQGVVLACAGVGYEVQIAPRHLSEMEHGQ...      1   \n",
       "2  Q9ZUP2  MARILRNVYSLRSSLFSSELLRRSVVGTSFQLRGFAAKAKKKSKSD...      1   \n",
       "3  Q2JVG1  MKCPRCGKQEIRVLESRSAEGGQSVRRRRECMSCGYRFTTYERIEF...      1   \n",
       "4  Q9K4Q3  MTKADIIEGVYEKVGFSKKESAEIVELVFDTLKETLERGDKIKISG...      1   \n",
       "\n",
       "                                              origin  \n",
       "0  https://github.com/hfuulgb/PDB-Fusion/tree/mai...  \n",
       "1  https://github.com/hfuulgb/PDB-Fusion/tree/mai...  \n",
       "2  https://github.com/hfuulgb/PDB-Fusion/tree/mai...  \n",
       "3  https://github.com/hfuulgb/PDB-Fusion/tree/mai...  \n",
       "4  https://github.com/hfuulgb/PDB-Fusion/tree/mai...  "
      ]
     },
     "metadata": {},
     "output_type": "display_data"
    },
    {
     "data": {
      "text/html": [
       "<div>\n",
       "<style scoped>\n",
       "    .dataframe tbody tr th:only-of-type {\n",
       "        vertical-align: middle;\n",
       "    }\n",
       "\n",
       "    .dataframe tbody tr th {\n",
       "        vertical-align: top;\n",
       "    }\n",
       "\n",
       "    .dataframe thead th {\n",
       "        text-align: right;\n",
       "    }\n",
       "</style>\n",
       "<table border=\"1\" class=\"dataframe\">\n",
       "  <thead>\n",
       "    <tr style=\"text-align: right;\">\n",
       "      <th></th>\n",
       "      <th>code</th>\n",
       "      <th>sequence</th>\n",
       "      <th>label</th>\n",
       "      <th>origin</th>\n",
       "    </tr>\n",
       "  </thead>\n",
       "  <tbody>\n",
       "    <tr>\n",
       "      <th>0</th>\n",
       "      <td>P27204|1</td>\n",
       "      <td>AKKRSRSRKRSASRKRSRSRKRSASKKSSKKHVRKALAAGMKNHLL...</td>\n",
       "      <td>1</td>\n",
       "      <td>https://github.com/hfuulgb/PDB-Fusion/tree/mai...</td>\n",
       "    </tr>\n",
       "    <tr>\n",
       "      <th>1</th>\n",
       "      <td>P53528|1</td>\n",
       "      <td>MVMVVNPLTAGLDDEQREAVLAPRGPVCVLAGAGTGKTRTITHRIA...</td>\n",
       "      <td>1</td>\n",
       "      <td>https://github.com/hfuulgb/PDB-Fusion/tree/mai...</td>\n",
       "    </tr>\n",
       "    <tr>\n",
       "      <th>2</th>\n",
       "      <td>P52684|1</td>\n",
       "      <td>MKDDINQEITFRKLSVFMMFMAKGNIARTAEAMKLSSVSVHRALHT...</td>\n",
       "      <td>1</td>\n",
       "      <td>https://github.com/hfuulgb/PDB-Fusion/tree/mai...</td>\n",
       "    </tr>\n",
       "    <tr>\n",
       "      <th>3</th>\n",
       "      <td>P10961|1</td>\n",
       "      <td>MNNAANTGTTNESNVSDAPRIEPLPSLNDDDIEKILQPNDIFTTDR...</td>\n",
       "      <td>1</td>\n",
       "      <td>https://github.com/hfuulgb/PDB-Fusion/tree/mai...</td>\n",
       "    </tr>\n",
       "    <tr>\n",
       "      <th>4</th>\n",
       "      <td>P06023|1</td>\n",
       "      <td>MAKPAKRIKSAAAAYVPQNRDAVITDIKRIGDLQREASRLETEMND...</td>\n",
       "      <td>1</td>\n",
       "      <td>https://github.com/hfuulgb/PDB-Fusion/tree/mai...</td>\n",
       "    </tr>\n",
       "  </tbody>\n",
       "</table>\n",
       "</div>"
      ],
      "text/plain": [
       "       code                                           sequence  label  \\\n",
       "0  P27204|1  AKKRSRSRKRSASRKRSRSRKRSASKKSSKKHVRKALAAGMKNHLL...      1   \n",
       "1  P53528|1  MVMVVNPLTAGLDDEQREAVLAPRGPVCVLAGAGTGKTRTITHRIA...      1   \n",
       "2  P52684|1  MKDDINQEITFRKLSVFMMFMAKGNIARTAEAMKLSSVSVHRALHT...      1   \n",
       "3  P10961|1  MNNAANTGTTNESNVSDAPRIEPLPSLNDDDIEKILQPNDIFTTDR...      1   \n",
       "4  P06023|1  MAKPAKRIKSAAAAYVPQNRDAVITDIKRIGDLQREASRLETEMND...      1   \n",
       "\n",
       "                                              origin  \n",
       "0  https://github.com/hfuulgb/PDB-Fusion/tree/mai...  \n",
       "1  https://github.com/hfuulgb/PDB-Fusion/tree/mai...  \n",
       "2  https://github.com/hfuulgb/PDB-Fusion/tree/mai...  \n",
       "3  https://github.com/hfuulgb/PDB-Fusion/tree/mai...  \n",
       "4  https://github.com/hfuulgb/PDB-Fusion/tree/mai...  "
      ]
     },
     "metadata": {},
     "output_type": "display_data"
    }
   ],
   "source": [
    "for df in [raw_dnab_train_df, raw_dnab_test_df]:\n",
    "    display(df.head(5))\n"
   ]
  },
  {
   "cell_type": "code",
   "execution_count": null,
   "id": "ddba5378",
   "metadata": {},
   "outputs": [
    {
     "data": {
      "text/html": [
       "<div>\n",
       "<style scoped>\n",
       "    .dataframe tbody tr th:only-of-type {\n",
       "        vertical-align: middle;\n",
       "    }\n",
       "\n",
       "    .dataframe tbody tr th {\n",
       "        vertical-align: top;\n",
       "    }\n",
       "\n",
       "    .dataframe thead th {\n",
       "        text-align: right;\n",
       "    }\n",
       "</style>\n",
       "<table border=\"1\" class=\"dataframe\">\n",
       "  <thead>\n",
       "    <tr style=\"text-align: right;\">\n",
       "      <th></th>\n",
       "      <th>count</th>\n",
       "      <th>mean</th>\n",
       "      <th>std</th>\n",
       "      <th>min</th>\n",
       "      <th>25%</th>\n",
       "      <th>50%</th>\n",
       "      <th>75%</th>\n",
       "      <th>max</th>\n",
       "    </tr>\n",
       "  </thead>\n",
       "  <tbody>\n",
       "    <tr>\n",
       "      <th>label</th>\n",
       "      <td>14189.0</td>\n",
       "      <td>0.502431</td>\n",
       "      <td>0.500012</td>\n",
       "      <td>0.0</td>\n",
       "      <td>0.0</td>\n",
       "      <td>1.0</td>\n",
       "      <td>1.0</td>\n",
       "      <td>1.0</td>\n",
       "    </tr>\n",
       "  </tbody>\n",
       "</table>\n",
       "</div>"
      ],
      "text/plain": [
       "         count      mean       std  min  25%  50%  75%  max\n",
       "label  14189.0  0.502431  0.500012  0.0  0.0  1.0  1.0  1.0"
      ]
     },
     "metadata": {},
     "output_type": "display_data"
    },
    {
     "data": {
      "text/html": [
       "<div>\n",
       "<style scoped>\n",
       "    .dataframe tbody tr th:only-of-type {\n",
       "        vertical-align: middle;\n",
       "    }\n",
       "\n",
       "    .dataframe tbody tr th {\n",
       "        vertical-align: top;\n",
       "    }\n",
       "\n",
       "    .dataframe thead th {\n",
       "        text-align: right;\n",
       "    }\n",
       "</style>\n",
       "<table border=\"1\" class=\"dataframe\">\n",
       "  <thead>\n",
       "    <tr style=\"text-align: right;\">\n",
       "      <th></th>\n",
       "      <th>count</th>\n",
       "      <th>mean</th>\n",
       "      <th>std</th>\n",
       "      <th>min</th>\n",
       "      <th>25%</th>\n",
       "      <th>50%</th>\n",
       "      <th>75%</th>\n",
       "      <th>max</th>\n",
       "    </tr>\n",
       "  </thead>\n",
       "  <tbody>\n",
       "    <tr>\n",
       "      <th>label</th>\n",
       "      <td>2272.0</td>\n",
       "      <td>0.507482</td>\n",
       "      <td>0.500054</td>\n",
       "      <td>0.0</td>\n",
       "      <td>0.0</td>\n",
       "      <td>1.0</td>\n",
       "      <td>1.0</td>\n",
       "      <td>1.0</td>\n",
       "    </tr>\n",
       "  </tbody>\n",
       "</table>\n",
       "</div>"
      ],
      "text/plain": [
       "        count      mean       std  min  25%  50%  75%  max\n",
       "label  2272.0  0.507482  0.500054  0.0  0.0  1.0  1.0  1.0"
      ]
     },
     "metadata": {},
     "output_type": "display_data"
    }
   ],
   "source": [
    "for df in [raw_dnab_train_df, raw_dnab_test_df]:\n",
    "    display(df.describe().T)\n"
   ]
  },
  {
   "cell_type": "code",
   "execution_count": null,
   "id": "e32e37dc",
   "metadata": {},
   "outputs": [
    {
     "name": "stdout",
     "output_type": "stream",
     "text": [
      "Train:  50.24%\n",
      "Test:  50.75%\n"
     ]
    }
   ],
   "source": [
    "print(f\"Train: {raw_dnab_train_df.label.sum() / len(raw_dnab_train_df) : .2%}\")\n",
    "print(f\"Test: {raw_dnab_test_df.label.sum() / len(raw_dnab_test_df) : .2%}\")\n"
   ]
  },
  {
   "cell_type": "markdown",
   "id": "ebb59e79",
   "metadata": {},
   "source": [
    "Class split is 50 - 50"
   ]
  },
  {
   "cell_type": "code",
   "execution_count": null,
   "id": "928d0aff",
   "metadata": {},
   "outputs": [
    {
     "data": {
      "text/plain": [
       "0.1380232063665634"
      ]
     },
     "execution_count": null,
     "metadata": {},
     "output_type": "execute_result"
    }
   ],
   "source": [
    "len(raw_dnab_test_df) / (len(raw_dnab_train_df) + len(raw_dnab_test_df))\n"
   ]
  },
  {
   "cell_type": "markdown",
   "id": "76139dc2",
   "metadata": {},
   "source": [
    "Train / Test split in the total dataset \n",
    "- Test ~ 14%\n",
    "- Train ~ 86%"
   ]
  },
  {
   "cell_type": "code",
   "execution_count": null,
   "id": "535e072f",
   "metadata": {},
   "outputs": [],
   "source": [
    "def get_dna_bind_data():\n",
    "    \"\"\"Load, clean and return ACP train and test dataframes\"\"\"\n",
    "\n",
    "    dna_bind_train_df = pd.read_csv(f\"{DATA_STORE}/dna_binding/train.csv\")\n",
    "    dna_bind_test_df = pd.read_csv(f\"{DATA_STORE}/dna_binding/test.csv\")\n",
    "\n",
    "    dna_bind_train_df.drop(columns=[\"code\", \"origin\"], inplace=True)\n",
    "    dna_bind_test_df.drop(columns=[\"code\", \"origin\"], inplace=True)\n",
    "\n",
    "    dna_bind_train_df.rename(columns={\"label\": \"label_dna_bind\"}, inplace=True)\n",
    "    dna_bind_test_df.rename(columns={\"label\": \"label_dna_bind\"}, inplace=True)\n",
    "\n",
    "    return dna_bind_train_df, dna_bind_test_df"
   ]
  },
  {
   "cell_type": "markdown",
   "id": "d92546cc",
   "metadata": {},
   "source": [
    "### Extract Features & Labels Function"
   ]
  },
  {
   "cell_type": "code",
   "execution_count": null,
   "id": "c4b6b75c",
   "metadata": {},
   "outputs": [],
   "source": [
    "def extract_features_labels(df: pd.DataFrame, max_seq_len: int = None):\n",
    "    \"\"\"Extract features and separate labels\"\"\"\n",
    "\n",
    "    df[\"sequence\"] = df[\"sequence\"].apply(lambda x: list(x))\n",
    "    df[\"length\"] = df[\"sequence\"].apply(lambda x: len(x))\n",
    "\n",
    "    features = pd.DataFrame(df[\"sequence\"].to_list())\n",
    "    if max_seq_len:\n",
    "        features = features.loc[:, : max_seq_len - 1]\n",
    "\n",
    "    label_cols = [lbl for lbl in df.columns if \"label_\" in lbl]\n",
    "    labels = pd.DataFrame(df[label_cols])\n",
    "\n",
    "    return df, features, labels"
   ]
  },
  {
   "cell_type": "markdown",
   "id": "bc54f334",
   "metadata": {},
   "source": [
    "## Dataset Classes\n",
    "Putting it all together"
   ]
  },
  {
   "cell_type": "markdown",
   "id": "9f78575f",
   "metadata": {},
   "source": [
    "- Load, clean, split all 3 datasets\n",
    "    - Clean = retain only 2 columns in all 3 dfs - `sequence` and `label`\n",
    "    - Split AMP data set into train (80%) and test (20%)"
   ]
  },
  {
   "cell_type": "code",
   "execution_count": 56,
   "id": "06dedc59",
   "metadata": {},
   "outputs": [],
   "source": [
    "# export\n",
    "\n",
    "\n",
    "class ProteinDataset(ABC):\n",
    "    \"\"\"Abstract base class for prtein datasets\"\"\"\n",
    "\n",
    "    def __init__(self, location: str, max_seq_len: int = None):\n",
    "        self.location = location\n",
    "        self.max_seq_len = max_seq_len\n",
    "\n",
    "    @abstractmethod\n",
    "    def clean_data(self):\n",
    "        pass\n",
    "\n",
    "    def extract_features_labels(\n",
    "        self, df: pd.DataFrame\n",
    "    ) -> tuple[pd.DataFrame, pd.DataFrame, np.array]:\n",
    "        \"\"\"Extract features and separate labels\"\"\"\n",
    "\n",
    "        df[\"sequence\"] = df[\"sequence\"].apply(lambda x: list(x))\n",
    "        df[\"length\"] = df[\"sequence\"].apply(lambda x: len(x))\n",
    "\n",
    "        features = pd.DataFrame(df[\"sequence\"].to_list())\n",
    "        if self.max_seq_len:\n",
    "            features = features.loc[:, : self.max_seq_len - 1]\n",
    "\n",
    "        label_cols = [lbl for lbl in df.columns if \"label\" in lbl]\n",
    "        labels = pd.DataFrame(df[label_cols])\n",
    "\n",
    "        return df, features, np.ravel(labels.to_numpy())\n"
   ]
  },
  {
   "cell_type": "code",
   "execution_count": 57,
   "id": "fa95e41e",
   "metadata": {},
   "outputs": [],
   "source": [
    "# export\n",
    "\n",
    "\n",
    "class ACPDataset(ProteinDataset):\n",
    "    \"\"\"Anticancer Peptide Dataset\"\"\"\n",
    "\n",
    "    def __init__(self, location: str, max_seq_len: int = None):\n",
    "        \"\"\"Load, clean ,extract labels & features for ACP train and test\"\"\"\n",
    "        super().__init__(location, max_seq_len)\n",
    "\n",
    "        train_df, test_df = self.clean_data()\n",
    "        self.train, self.X_train, self.y_train = self.extract_features_labels(train_df)\n",
    "        self.test, self.X_test, self.y_test = self.extract_features_labels(test_df)\n",
    "\n",
    "    def clean_data(self) -> tuple[pd.DataFrame, pd.DataFrame]:\n",
    "        \"\"\"Load, clean and return ACP train and test dataframes\"\"\"\n",
    "        acp_train_df = pd.read_csv(f\"{self.location}/acp/train_data.csv\")\n",
    "        acp_test_df = pd.read_csv(f\"{self.location}/acp/test_data.csv\")\n",
    "\n",
    "        acp_train_df.rename(\n",
    "            columns={\"sequences\": \"sequence\", \"label\": \"label_acp\"}, inplace=True\n",
    "        )\n",
    "        acp_test_df.rename(\n",
    "            columns={\"sequences\": \"sequence\", \"label\": \"label_acp\"}, inplace=True\n",
    "        )\n",
    "\n",
    "        return acp_train_df, acp_test_df\n"
   ]
  },
  {
   "cell_type": "code",
   "execution_count": 58,
   "id": "fa95e41e",
   "metadata": {},
   "outputs": [],
   "source": [
    "# export\n",
    "\n",
    "\n",
    "class AMPDataset(ProteinDataset):\n",
    "    \"\"\"Antimicrobial Peptide Dataset\"\"\"\n",
    "\n",
    "    def __init__(\n",
    "        self, location: str, max_seq_len: int = 150, test_pct: float = 0.2, seed=1234\n",
    "    ):\n",
    "        \"\"\"Load, clean ,extract labels & features for AMP train and test\"\"\"\n",
    "        super().__init__(location, max_seq_len)\n",
    "        self.test_pct = test_pct\n",
    "        self.seed = seed\n",
    "\n",
    "        train_df, test_df = self.clean_data(self.test_pct, self.seed)\n",
    "        self.train, self.X_train, self.y_train = self.extract_features_labels(train_df)\n",
    "        self.test, self.X_test, self.y_test = self.extract_features_labels(test_df)\n",
    "\n",
    "    def clean_data(\n",
    "        self, test_pct: float = 0.2, seed: int = 1234\n",
    "    ) -> tuple[pd.DataFrame, pd.DataFrame]:\n",
    "        \"\"\"Load, clean, split and return AMP train and test dataframes\"\"\"\n",
    "        amp_df = pd.read_csv(f\"{self.location}/amp/all_data.csv\")\n",
    "\n",
    "        amp_df.drop(columns=[\"PDBs_code\"], inplace=True)\n",
    "        amp_df.rename(\n",
    "            columns={\"SequenceID\": \"sequence\", \"label\": \"label_amp\"}, inplace=True\n",
    "        )\n",
    "\n",
    "        amp_test_df = amp_df.sample(frac=test_pct, random_state=seed)\n",
    "        amp_train_df = amp_df.drop(amp_test_df.index)\n",
    "\n",
    "        amp_train_df.reset_index(inplace=True)\n",
    "        amp_test_df.reset_index(inplace=True)\n",
    "\n",
    "        return amp_train_df, amp_test_df\n"
   ]
  },
  {
   "cell_type": "code",
   "execution_count": 59,
   "id": "fa95e41e",
   "metadata": {},
   "outputs": [],
   "source": [
    "# export\n",
    "\n",
    "\n",
    "class DNABindDataset(ProteinDataset):\n",
    "    \"\"\"DNA Binding Protein Dataset\"\"\"\n",
    "\n",
    "    def __init__(self, location: str, max_seq_len: int = 300):\n",
    "        \"\"\"Load, clean ,extract labels & features for ACP train and test\"\"\"\n",
    "        super().__init__(location, max_seq_len)\n",
    "\n",
    "        train_df, test_df = self.clean_data()\n",
    "        self.train, self.X_train, self.y_train = self.extract_features_labels(train_df)\n",
    "        self.test, self.X_test, self.y_test = self.extract_features_labels(test_df)\n",
    "\n",
    "    def clean_data(self) -> tuple[pd.DataFrame, pd.DataFrame]:\n",
    "        \"\"\"Load, clean and return DNABind train and test dataframes\"\"\"\n",
    "\n",
    "        dna_bind_train_df = pd.read_csv(f\"{self.location}/dna_binding/train.csv\")\n",
    "        dna_bind_test_df = pd.read_csv(f\"{self.location}/dna_binding/test.csv\")\n",
    "\n",
    "        dna_bind_train_df.drop(columns=[\"code\", \"origin\"], inplace=True)\n",
    "        dna_bind_test_df.drop(columns=[\"code\", \"origin\"], inplace=True)\n",
    "\n",
    "        dna_bind_train_df.rename(columns={\"label\": \"label_dna_bind\"}, inplace=True)\n",
    "        dna_bind_test_df.rename(columns={\"label\": \"label_dna_bind\"}, inplace=True)\n",
    "\n",
    "        return dna_bind_train_df, dna_bind_test_df\n"
   ]
  },
  {
   "cell_type": "code",
   "execution_count": 60,
   "id": "897aab5a",
   "metadata": {},
   "outputs": [],
   "source": [
    "acp_data = ACPDataset(DATA_STORE)\n",
    "amp_data = AMPDataset(DATA_STORE)\n",
    "dnabind_data = DNABindDataset(DATA_STORE)\n"
   ]
  },
  {
   "cell_type": "code",
   "execution_count": 61,
   "id": "56f157b6",
   "metadata": {},
   "outputs": [
    {
     "data": {
      "text/html": [
       "<div>\n",
       "<style scoped>\n",
       "    .dataframe tbody tr th:only-of-type {\n",
       "        vertical-align: middle;\n",
       "    }\n",
       "\n",
       "    .dataframe tbody tr th {\n",
       "        vertical-align: top;\n",
       "    }\n",
       "\n",
       "    .dataframe thead th {\n",
       "        text-align: right;\n",
       "    }\n",
       "</style>\n",
       "<table border=\"1\" class=\"dataframe\">\n",
       "  <thead>\n",
       "    <tr style=\"text-align: right;\">\n",
       "      <th></th>\n",
       "      <th>sequence</th>\n",
       "      <th>label_dna_bind</th>\n",
       "      <th>length</th>\n",
       "    </tr>\n",
       "  </thead>\n",
       "  <tbody>\n",
       "    <tr>\n",
       "      <th>0</th>\n",
       "      <td>[A, K, K, R, S, R, S, R, K, R, S, A, S, R, K, ...</td>\n",
       "      <td>1</td>\n",
       "      <td>101</td>\n",
       "    </tr>\n",
       "    <tr>\n",
       "      <th>1</th>\n",
       "      <td>[M, V, M, V, V, N, P, L, T, A, G, L, D, D, E, ...</td>\n",
       "      <td>1</td>\n",
       "      <td>714</td>\n",
       "    </tr>\n",
       "    <tr>\n",
       "      <th>2</th>\n",
       "      <td>[M, K, D, D, I, N, Q, E, I, T, F, R, K, L, S, ...</td>\n",
       "      <td>1</td>\n",
       "      <td>308</td>\n",
       "    </tr>\n",
       "    <tr>\n",
       "      <th>3</th>\n",
       "      <td>[M, N, N, A, A, N, T, G, T, T, N, E, S, N, V, ...</td>\n",
       "      <td>1</td>\n",
       "      <td>833</td>\n",
       "    </tr>\n",
       "    <tr>\n",
       "      <th>4</th>\n",
       "      <td>[M, A, K, P, A, K, R, I, K, S, A, A, A, A, Y, ...</td>\n",
       "      <td>1</td>\n",
       "      <td>174</td>\n",
       "    </tr>\n",
       "    <tr>\n",
       "      <th>...</th>\n",
       "      <td>...</td>\n",
       "      <td>...</td>\n",
       "      <td>...</td>\n",
       "    </tr>\n",
       "    <tr>\n",
       "      <th>2267</th>\n",
       "      <td>[M, N, F, S, R, E, R, T, I, T, E, I, Q, N, D, ...</td>\n",
       "      <td>0</td>\n",
       "      <td>125</td>\n",
       "    </tr>\n",
       "    <tr>\n",
       "      <th>2268</th>\n",
       "      <td>[M, V, V, V, D, K, E, I, K, K, G, Q, Y, Y, L, ...</td>\n",
       "      <td>0</td>\n",
       "      <td>60</td>\n",
       "    </tr>\n",
       "    <tr>\n",
       "      <th>2269</th>\n",
       "      <td>[M, N, P, S, T, H, V, S, S, N, G, P, T, T, P, ...</td>\n",
       "      <td>0</td>\n",
       "      <td>668</td>\n",
       "    </tr>\n",
       "    <tr>\n",
       "      <th>2270</th>\n",
       "      <td>[M, V, R, S, G, K, K, A, V, V, L, A, A, V, A, ...</td>\n",
       "      <td>0</td>\n",
       "      <td>370</td>\n",
       "    </tr>\n",
       "    <tr>\n",
       "      <th>2271</th>\n",
       "      <td>[M, N, Y, S, I, R, L, F, K, I, M, G, I, P, I, ...</td>\n",
       "      <td>0</td>\n",
       "      <td>339</td>\n",
       "    </tr>\n",
       "  </tbody>\n",
       "</table>\n",
       "<p>2272 rows × 3 columns</p>\n",
       "</div>"
      ],
      "text/plain": [
       "                                               sequence  label_dna_bind  \\\n",
       "0     [A, K, K, R, S, R, S, R, K, R, S, A, S, R, K, ...               1   \n",
       "1     [M, V, M, V, V, N, P, L, T, A, G, L, D, D, E, ...               1   \n",
       "2     [M, K, D, D, I, N, Q, E, I, T, F, R, K, L, S, ...               1   \n",
       "3     [M, N, N, A, A, N, T, G, T, T, N, E, S, N, V, ...               1   \n",
       "4     [M, A, K, P, A, K, R, I, K, S, A, A, A, A, Y, ...               1   \n",
       "...                                                 ...             ...   \n",
       "2267  [M, N, F, S, R, E, R, T, I, T, E, I, Q, N, D, ...               0   \n",
       "2268  [M, V, V, V, D, K, E, I, K, K, G, Q, Y, Y, L, ...               0   \n",
       "2269  [M, N, P, S, T, H, V, S, S, N, G, P, T, T, P, ...               0   \n",
       "2270  [M, V, R, S, G, K, K, A, V, V, L, A, A, V, A, ...               0   \n",
       "2271  [M, N, Y, S, I, R, L, F, K, I, M, G, I, P, I, ...               0   \n",
       "\n",
       "      length  \n",
       "0        101  \n",
       "1        714  \n",
       "2        308  \n",
       "3        833  \n",
       "4        174  \n",
       "...      ...  \n",
       "2267     125  \n",
       "2268      60  \n",
       "2269     668  \n",
       "2270     370  \n",
       "2271     339  \n",
       "\n",
       "[2272 rows x 3 columns]"
      ]
     },
     "execution_count": 61,
     "metadata": {},
     "output_type": "execute_result"
    }
   ],
   "source": [
    "dnabind_data.test\n"
   ]
  },
  {
   "cell_type": "markdown",
   "id": "aeb230f0",
   "metadata": {},
   "source": [
    "## EDA"
   ]
  },
  {
   "cell_type": "code",
   "execution_count": 35,
   "id": "41bba1a2",
   "metadata": {},
   "outputs": [],
   "source": [
    "def plot_seqlen_dist(df, dataset_name, log_scale=False, bins=75):\n",
    "    \"\"\"Plot the sequence length distribution given a train df with length and label columns\"\"\"\n",
    "    len_col, label_col = df.columns\n",
    "    mean = df[len_col].mean()\n",
    "    median = df[len_col].median()\n",
    "    sorted_by_len = df.sort_values(by=[len_col])\n",
    "\n",
    "    fig, (ax1, ax2) = plt.subplots(1, 2, figsize=(15, 5))\n",
    "    fig.suptitle(f'Distribution of sequence lengths in \"train\" - {dataset_name}')\n",
    "\n",
    "    # overall dist with mean and median\n",
    "    sns.histplot(\n",
    "        data=sorted_by_len[len_col].values,\n",
    "        kde=True,\n",
    "        ax=ax1,\n",
    "        log_scale=log_scale,\n",
    "        bins=bins,\n",
    "    )\n",
    "\n",
    "    ax1.axvline(mean, color=\"r\", label=f\"Mean: {mean:.1f}\")\n",
    "    ax1.axvline(median, color=\"g\", label=f\"Median {median:.1f}\")\n",
    "    ax1.legend()\n",
    "\n",
    "    # dist with labels\n",
    "    sns.histplot(\n",
    "        data=sorted_by_len,\n",
    "        x=len_col,\n",
    "        hue=label_col,\n",
    "        kde=True,\n",
    "        ax=ax2,\n",
    "        log_scale=log_scale,\n",
    "        bins=bins,\n",
    "    )\n",
    "\n",
    "    for ax in [ax1, ax2]:\n",
    "        ax.set(xlabel=\"length\")\n",
    "\n",
    "    plt.show()\n"
   ]
  },
  {
   "cell_type": "code",
   "execution_count": 36,
   "id": "8f55b850",
   "metadata": {},
   "outputs": [],
   "source": [
    "def plot_AA_dist(df, dataset_name):\n",
    "    \"\"\"Plot the distribution of amino acids given a train df with \"sequence\" column\"\"\"\n",
    "\n",
    "    aa_counter = Counter()\n",
    "    for seq in df.sequence:\n",
    "        aa_counter.update(seq)\n",
    "    print(f\"Number of amino acids in the dataset: {len(aa_counter.keys())}\")\n",
    "    print(f\"Frequencies: {aa_counter.most_common()}\")\n",
    "    AAs, counts = map(list, zip(*aa_counter.most_common()))  # to sort\n",
    "\n",
    "    fig, ax = plt.subplots(figsize=(10, 5))\n",
    "    ax.set(\n",
    "        title=f'Frequency distribution of amino acids in {dataset_name} \"train\" dataset'\n",
    "    )\n",
    "    sns.barplot(x=AAs, y=counts, ax=ax)\n",
    "    ax.set(xlabel=\"Amino Acids\")\n",
    "\n",
    "    plt.show()\n"
   ]
  },
  {
   "cell_type": "markdown",
   "id": "64854fb9",
   "metadata": {},
   "source": [
    "### ACP"
   ]
  },
  {
   "cell_type": "code",
   "execution_count": 39,
   "id": "b8503c39",
   "metadata": {},
   "outputs": [],
   "source": [
    "# df, features, labels = extract_features_labels(acp_train_df)\n"
   ]
  },
  {
   "cell_type": "code",
   "execution_count": 40,
   "id": "f060571e",
   "metadata": {},
   "outputs": [
    {
     "name": "stdout",
     "output_type": "stream",
     "text": [
      "Samples in train: 1378\n"
     ]
    }
   ],
   "source": [
    "print(f\"Samples in train: {len(acp_data.train)}\")\n"
   ]
  },
  {
   "cell_type": "code",
   "execution_count": 41,
   "id": "884145ea",
   "metadata": {},
   "outputs": [
    {
     "data": {
      "image/png": "[encoded data removed]",
      "text/plain": [
       "<Figure size 1080x360 with 2 Axes>"
      ]
     },
     "metadata": {
      "needs_background": "light"
     },
     "output_type": "display_data"
    }
   ],
   "source": [
    "plot_seqlen_dist(acp_data.train[[\"length\", \"label_acp\"]], \"Anti Cancer Peptide\")\n"
   ]
  },
  {
   "cell_type": "code",
   "execution_count": 42,
   "id": "670c61b5",
   "metadata": {},
   "outputs": [
    {
     "name": "stdout",
     "output_type": "stream",
     "text": [
      "Number of amino acids in the dataset: 20\n",
      "Frequencies: [('K', 4141), ('L', 3397), ('G', 3153), ('A', 2825), ('C', 2251), ('I', 2029), ('R', 1810), ('V', 1739), ('S', 1699), ('F', 1535), ('T', 1309), ('P', 1236), ('N', 1119), ('E', 759), ('D', 731), ('Y', 693), ('Q', 690), ('W', 688), ('H', 646), ('M', 383)]\n"
     ]
    },
    {
     "data": {
      "image/png": "[encoded data removed]",
      "text/plain": [
       "<Figure size 720x360 with 1 Axes>"
      ]
     },
     "metadata": {
      "needs_background": "light"
     },
     "output_type": "display_data"
    }
   ],
   "source": [
    "plot_AA_dist(acp_data.train[[\"sequence\"]], \"Anti Cancer Peptide\")\n"
   ]
  },
  {
   "cell_type": "markdown",
   "id": "547e1237",
   "metadata": {},
   "source": [
    "### AMP"
   ]
  },
  {
   "cell_type": "code",
   "execution_count": 43,
   "id": "b8503c39",
   "metadata": {},
   "outputs": [],
   "source": [
    "# df, features, labels = extract_features_labels(amp_train_df)\n"
   ]
  },
  {
   "cell_type": "code",
   "execution_count": 44,
   "id": "f060571e",
   "metadata": {},
   "outputs": [
    {
     "name": "stdout",
     "output_type": "stream",
     "text": [
      "Samples in train: 3234\n"
     ]
    }
   ],
   "source": [
    "print(f\"Samples in train: {len(amp_data.train)}\")\n"
   ]
  },
  {
   "cell_type": "code",
   "execution_count": 45,
   "id": "884145ea",
   "metadata": {},
   "outputs": [
    {
     "data": {
      "image/png": "[encoded data removed]",
      "text/plain": [
       "<Figure size 1080x360 with 2 Axes>"
      ]
     },
     "metadata": {
      "needs_background": "light"
     },
     "output_type": "display_data"
    }
   ],
   "source": [
    "plot_seqlen_dist(\n",
    "    amp_data.train[[\"length\", \"label_amp\"]], \"Antimicrobial Peptide\", log_scale=False\n",
    ")\n"
   ]
  },
  {
   "cell_type": "code",
   "execution_count": 46,
   "id": "884145ea",
   "metadata": {},
   "outputs": [
    {
     "data": {
      "image/png": "[encoded data removed]",
      "text/plain": [
       "<Figure size 1080x360 with 2 Axes>"
      ]
     },
     "metadata": {
      "needs_background": "light"
     },
     "output_type": "display_data"
    }
   ],
   "source": [
    "plot_seqlen_dist(\n",
    "    amp_data.train[[\"length\", \"label_amp\"]], \"Antimicrobial Peptide\", log_scale=True\n",
    ")\n"
   ]
  },
  {
   "cell_type": "code",
   "execution_count": 47,
   "id": "670c61b5",
   "metadata": {},
   "outputs": [
    {
     "name": "stdout",
     "output_type": "stream",
     "text": [
      "Number of amino acids in the dataset: 21\n",
      "Frequencies: [('L', 9768), ('G', 9521), ('K', 8835), ('A', 8356), ('S', 7371), ('V', 6703), ('R', 6491), ('I', 6294), ('E', 5366), ('P', 5338), ('T', 5233), ('D', 4651), ('N', 4613), ('F', 4392), ('C', 4219), ('Q', 3831), ('Y', 2962), ('H', 2618), ('M', 1830), ('W', 1578), ('X', 4)]\n"
     ]
    },
    {
     "data": {
      "image/png": "[encoded data removed]",
      "text/plain": [
       "<Figure size 720x360 with 1 Axes>"
      ]
     },
     "metadata": {
      "needs_background": "light"
     },
     "output_type": "display_data"
    }
   ],
   "source": [
    "plot_AA_dist(amp_data.train[[\"sequence\"]], \"Antimicrobial Peptide\")\n"
   ]
  },
  {
   "cell_type": "markdown",
   "id": "def1eeb2",
   "metadata": {},
   "source": [
    "### DNA Binding"
   ]
  },
  {
   "cell_type": "code",
   "execution_count": 48,
   "id": "b8503c39",
   "metadata": {},
   "outputs": [],
   "source": [
    "# df, features, labels = extract_features_labels(dna_bind_train_df)\n"
   ]
  },
  {
   "cell_type": "code",
   "execution_count": 49,
   "id": "f060571e",
   "metadata": {},
   "outputs": [
    {
     "name": "stdout",
     "output_type": "stream",
     "text": [
      "Samples in train: 14189\n"
     ]
    }
   ],
   "source": [
    "print(f\"Samples in train: {len(dnabind_data.train)}\")\n"
   ]
  },
  {
   "cell_type": "code",
   "execution_count": 50,
   "id": "aa5959b3",
   "metadata": {},
   "outputs": [
    {
     "data": {
      "image/png": "[encoded data removed]",
      "text/plain": [
       "<Figure size 1080x360 with 2 Axes>"
      ]
     },
     "metadata": {
      "needs_background": "light"
     },
     "output_type": "display_data"
    }
   ],
   "source": [
    "plot_seqlen_dist(\n",
    "    dnabind_data.train[[\"length\", \"label_dna_bind\"]],\n",
    "    \"DNA Binding Protein\",\n",
    "    log_scale=False,\n",
    ")\n"
   ]
  },
  {
   "cell_type": "code",
   "execution_count": 51,
   "id": "aa5959b3",
   "metadata": {},
   "outputs": [
    {
     "data": {
      "image/png": "[encoded data removed]",
      "text/plain": [
       "<Figure size 1080x360 with 2 Axes>"
      ]
     },
     "metadata": {
      "needs_background": "light"
     },
     "output_type": "display_data"
    }
   ],
   "source": [
    "plot_seqlen_dist(\n",
    "    dnabind_data.train[[\"length\", \"label_dna_bind\"]],\n",
    "    \"DNA Binding Protein\",\n",
    "    log_scale=True,\n",
    ")\n"
   ]
  },
  {
   "cell_type": "code",
   "execution_count": 52,
   "id": "4143e66a",
   "metadata": {},
   "outputs": [
    {
     "name": "stdout",
     "output_type": "stream",
     "text": [
      "Number of amino acids in the dataset: 24\n",
      "Frequencies: [('L', 550524), ('S', 472593), ('A', 457288), ('E', 414062), ('G', 393279), ('K', 377806), ('V', 367475), ('R', 343987), ('T', 325286), ('P', 324499), ('D', 322736), ('I', 320614), ('Q', 272663), ('N', 271296), ('F', 215949), ('Y', 166668), ('H', 149670), ('M', 138056), ('C', 92015), ('W', 57815), ('X', 116), ('U', 3), ('O', 1), ('B', 1)]\n"
     ]
    },
    {
     "data": {
      "image/png": "[encoded data removed]",
      "text/plain": [
       "<Figure size 720x360 with 1 Axes>"
      ]
     },
     "metadata": {
      "needs_background": "light"
     },
     "output_type": "display_data"
    }
   ],
   "source": [
    "plot_AA_dist(dnabind_data.train[[\"sequence\"]], \"DNA Binding Protein\")\n"
   ]
  },
  {
   "cell_type": "markdown",
   "id": "afraid-announcement",
   "metadata": {},
   "source": [
    "## Export -"
   ]
  },
  {
   "cell_type": "code",
   "execution_count": 1,
   "id": "finite-candle",
   "metadata": {},
   "outputs": [
    {
     "name": "stdout",
     "output_type": "stream",
     "text": [
      "Converted 00_basics.ipynb.\n",
      "Converted 01_preprocessing_data.ipynb.\n",
      "Converted 02_preprocessing_embedding.ipynb.\n",
      "Converted 03_metrics.ipynb.\n",
      "Converted 04_baseline_models.ipynb.\n",
      "Converted 04_pretrained.ipynb.\n",
      "Converted index.ipynb.\n"
     ]
    }
   ],
   "source": [
    "# hide\n",
    "from nbdev.export import *\n",
    "\n",
    "notebook2script()\n"
   ]
  },
  {
   "cell_type": "code",
   "execution_count": null,
   "id": "ae8a3603",
   "metadata": {},
   "outputs": [],
   "source": []
  }
 ],
 "metadata": {
  "kernelspec": {
   "display_name": "Python 3.9.13 ('peptide')",
   "language": "python",
   "name": "python3"
  },
  "language_info": {
   "codemirror_mode": {
    "name": "ipython",
    "version": 3
   },
   "file_extension": ".py",
   "mimetype": "text/x-python",
   "name": "python",
   "nbconvert_exporter": "python",
   "pygments_lexer": "ipython3",
   "version": "3.9.13"
  },
  "vscode": {
   "interpreter": {
    "hash": "ed1fe5d2b8444463e19b00657a175b9cae3e282d841010e10efaed3bb2bffc1a"
   }
  }
 },
 "nbformat": 4,
 "nbformat_minor": 5
}
