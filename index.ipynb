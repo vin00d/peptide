{
 "cells": [
  {
   "cell_type": "code",
   "execution_count": null,
   "metadata": {},
   "outputs": [],
   "source": [
    "#hide\n",
    "#from your_lib.core import *"
   ]
  },
  {
   "cell_type": "markdown",
   "metadata": {},
   "source": [
    "# peptide\n",
    "\n",
    "> An open source ML library for peptide classification."
   ]
  },
  {
   "cell_type": "markdown",
   "metadata": {},
   "source": [
    "This project aims to build a series of classifiers that can predict whether a given amino acid sequence is one or more of the 3 target peptides.<br>\n",
    "Additionally, this project will compare models built with vastly different approaches ranging from classic ML models with feature engineering by experts to large transformer-based models.\n",
    "\n",
    "**Classification Tasks:** Given a sequence of amino acids (NLP equivalent = ‘words’), classify whether the resulting peptide (NLP equivalent = ‘sentence’) is one or many of the following targets (multi-task classification not multi-class i.e. 3 sigmoids not 1 softmax).\n",
    "- Anticancer peptide (ACP)\n",
    "- DNA-binding protein\n",
    "- Antimicrobial peptide (AMP).\n",
    "\n",
    "**Multiple Models:** Develop multiple models for the above classification tasks\n",
    "- Supervised ML model(s) with hand engineered features from bio-experts\n",
    "- Supervised ML model(s) using pre-trained embeddings with feature-space reduced using the following unsupervised techniques\n",
    "    - Principal Component Analysis (PCA)\n",
    "    - Autoencoders & its variants\n",
    "    - K-Means Clustering\n",
    "- Deep Learning Transformer models using pre-trained embeddings\n",
    "\n",
    "**Model Scoring System:** Develop a system that produces accuracy scores \n",
    "- By running any given (labeled) dataset\n",
    "- Through the multiple models listed above \n",
    "- And display / return accuracies on the classification tasks for each model.\n"
   ]
  },
  {
   "cell_type": "markdown",
   "metadata": {},
   "source": [
    "## Install"
   ]
  },
  {
   "cell_type": "markdown",
   "metadata": {},
   "source": [
    "With conda\n",
    "- conda install -c conda-forge peptide\n",
    "With pip\n",
    "- `pip install peptide`"
   ]
  },
  {
   "cell_type": "markdown",
   "metadata": {},
   "source": [
    "## How to use"
   ]
  },
  {
   "cell_type": "markdown",
   "metadata": {},
   "source": [
    "Fill me in please! Don't forget code examples:"
   ]
  },
  {
   "cell_type": "code",
   "execution_count": null,
   "metadata": {},
   "outputs": [
    {
     "data": {
      "text/plain": [
       "2"
      ]
     },
     "execution_count": null,
     "metadata": {},
     "output_type": "execute_result"
    }
   ],
   "source": [
    "1+1"
   ]
  },
  {
   "cell_type": "code",
   "execution_count": null,
   "metadata": {},
   "outputs": [],
   "source": []
  }
 ],
 "metadata": {
  "kernelspec": {
   "display_name": "Python [conda env:peptide]",
   "language": "python",
   "name": "conda-env-peptide-py"
  }
 },
 "nbformat": 4,
 "nbformat_minor": 4
}
