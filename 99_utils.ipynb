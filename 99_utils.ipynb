{
 "cells": [
  {
   "cell_type": "code",
   "execution_count": 1,
   "metadata": {},
   "outputs": [],
   "source": [
    "# default_exp utils\n"
   ]
  },
  {
   "cell_type": "code",
   "execution_count": 2,
   "metadata": {},
   "outputs": [],
   "source": [
    "# export\n",
    "\n",
    "from peptide.imports import *\n"
   ]
  },
  {
   "cell_type": "code",
   "execution_count": 3,
   "metadata": {},
   "outputs": [],
   "source": [
    "# export\n",
    "\n",
    "\n",
    "def visualize_2pcas(pcs, y):\n",
    "    fig, ax = plt.subplots(figsize=(10, 5))\n",
    "    plot = plt.scatter(pcs[:, 0], pcs[:, 1], c=y, marker=\".\")\n",
    "    ax.set_xlabel(\"PC 1\")\n",
    "    ax.set_ylabel(\"PC 2\")\n",
    "    ax.legend(handles=plot.legend_elements()[0], labels=[\"No\", \"Yes\"])\n"
   ]
  },
  {
   "cell_type": "code",
   "execution_count": 4,
   "metadata": {},
   "outputs": [],
   "source": [
    "# export\n",
    "\n",
    "\n",
    "def visualize_3pcas(pcs, y):\n",
    "    fig, ax = plt.subplots(figsize=(10, 5))\n",
    "    ax = fig.add_subplot(projection=\"3d\")\n",
    "    plot = ax.scatter(pcs[:, 0], pcs[:, 1], pcs[:, 2], c=y)\n",
    "    ax.set_xlabel(\"PC 1\")\n",
    "    ax.set_ylabel(\"PC 2\")\n",
    "    ax.set_zlabel(\"PC 3\")\n",
    "    ax.legend(handles=plot.legend_elements()[0], labels=[\"No\", \"Yes\"])\n"
   ]
  },
  {
   "cell_type": "code",
   "execution_count": 5,
   "metadata": {},
   "outputs": [],
   "source": [
    "# export\n",
    "\n",
    "\n",
    "def train_predict(X_train, y_train, X_test, y_test):\n",
    "    \"\"\"Temporary helper function to quickly train and predict\"\"\"\n",
    "\n",
    "    lr = LogisticRegression(max_iter=10000)\n",
    "    lr.fit(X_train, y_train)\n",
    "\n",
    "    svc = LinearSVC(max_iter=10000)\n",
    "    svc.fit(X_train, y_train)\n",
    "\n",
    "    xgb = XGBClassifier()\n",
    "    xgb.fit(X_train, y_train)\n",
    "\n",
    "    lr_preds = lr.predict(X_test)\n",
    "    svc_preds = svc.predict(X_test)\n",
    "    xgb_preds = xgb.predict(X_test)\n",
    "\n",
    "    scores = []\n",
    "    for preds in [lr_preds, svc_preds, xgb_preds]:\n",
    "        scores.append(\n",
    "            [\n",
    "                accuracy_score(y_test, preds),\n",
    "                recall_score(y_test, preds),\n",
    "                precision_score(y_test, preds),\n",
    "                f1_score(y_test, preds),\n",
    "            ]\n",
    "        )\n",
    "\n",
    "    return pd.DataFrame(\n",
    "        scores, columns=[\"acc\", \"recall\", \"precision\", \"f1\"], index=[\"lr\", \"svc\", \"xgb\"]\n",
    "    )\n"
   ]
  },
  {
   "cell_type": "code",
   "execution_count": null,
   "metadata": {},
   "outputs": [],
   "source": []
  },
  {
   "cell_type": "code",
   "execution_count": null,
   "metadata": {},
   "outputs": [],
   "source": []
  },
  {
   "cell_type": "markdown",
   "id": "afraid-announcement",
   "metadata": {},
   "source": [
    "## Export -"
   ]
  },
  {
   "cell_type": "code",
   "execution_count": 9,
   "id": "finite-candle",
   "metadata": {},
   "outputs": [
    {
     "name": "stdout",
     "output_type": "stream",
     "text": [
      "Converted 00_basics.ipynb.\n",
      "Converted 01_data.ipynb.\n",
      "Converted 02_onehot.ipynb.\n",
      "Converted 03_lstm.ipynb.\n",
      "Converted 04_transformer.ipynb.\n",
      "Converted 99_utils.ipynb.\n",
      "Converted index.ipynb.\n"
     ]
    }
   ],
   "source": [
    "# hide\n",
    "from nbdev.export import *\n",
    "\n",
    "notebook2script()\n"
   ]
  },
  {
   "cell_type": "code",
   "execution_count": null,
   "metadata": {},
   "outputs": [],
   "source": []
  },
  {
   "cell_type": "code",
   "execution_count": null,
   "metadata": {},
   "outputs": [],
   "source": []
  }
 ],
 "metadata": {
  "kernelspec": {
   "display_name": "Python 3.9.13 ('peptide')",
   "language": "python",
   "name": "python3"
  },
  "language_info": {
   "codemirror_mode": {
    "name": "ipython",
    "version": 3
   },
   "file_extension": ".py",
   "mimetype": "text/x-python",
   "name": "python",
   "nbconvert_exporter": "python",
   "pygments_lexer": "ipython3",
   "version": "3.9.13"
  },
  "orig_nbformat": 4,
  "vscode": {
   "interpreter": {
    "hash": "ed1fe5d2b8444463e19b00657a175b9cae3e282d841010e10efaed3bb2bffc1a"
   }
  }
 },
 "nbformat": 4,
 "nbformat_minor": 2
}
