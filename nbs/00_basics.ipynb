{
 "cells": [
  {
   "cell_type": "code",
   "execution_count": 1,
   "id": "specialized-violence",
   "metadata": {},
   "outputs": [],
   "source": [
    "# default_exp basics"
   ]
  },
  {
   "cell_type": "code",
   "execution_count": 2,
   "id": "52e29651",
   "metadata": {},
   "outputs": [],
   "source": [
    "# all_func\n"
   ]
  },
  {
   "cell_type": "markdown",
   "id": "cathedral-spectrum",
   "metadata": {},
   "source": [
    "# Basics\n",
    "\n",
    "> Setup default paths & global scope variables."
   ]
  },
  {
   "cell_type": "code",
   "execution_count": 3,
   "id": "empirical-chess",
   "metadata": {},
   "outputs": [],
   "source": [
    "#export\n",
    "\n",
    "from peptide.imports import *"
   ]
  },
  {
   "cell_type": "code",
   "execution_count": 4,
   "id": "interesting-forest",
   "metadata": {},
   "outputs": [],
   "source": [
    "#hide\n",
    "\n",
    "from nbdev.showdoc import *"
   ]
  },
  {
   "cell_type": "markdown",
   "id": "amazing-justice",
   "metadata": {},
   "source": [
    "Every file in the library imports this, so all global set up required everywhere can be added here.\n",
    "1. Defines default paths for different stores - so that they are out of version control by default.\n",
    "2. Global scope variables - for convenience in other modules.\n",
    "\n",
    "To change any of the paths, update this settings file."
   ]
  },
  {
   "cell_type": "markdown",
   "id": "sacred-source",
   "metadata": {},
   "source": [
    "## Settings File"
   ]
  },
  {
   "cell_type": "markdown",
   "id": "embedded-montana",
   "metadata": {},
   "source": [
    "A YAML file called `settings.yaml` is created (from a template) the first time the library is used.\n",
    "The default template is shown below."
   ]
  },
  {
   "cell_type": "code",
   "execution_count": 7,
   "id": "toxic-kitty",
   "metadata": {},
   "outputs": [],
   "source": [
    "#exports\n",
    "\n",
    "def settings_template():\n",
    "    '''Create initial settings for library.'''\n",
    "    template = {\n",
    "        'STORES' : \n",
    "        {\n",
    "            'DATA_STORE'       : f'{Path.home()}/.peptide/datasets',\n",
    "            'LOG_STORE'        : f'{Path.home()}/.peptide/logs',\n",
    "            'MODEL_STORE'      : f'{Path.home()}/.peptide/models',\n",
    "            'EXPERIMENT_STORE' : f'{Path.home()}/.peptide/experiments'\n",
    "        }\n",
    "    }\n",
    "    \n",
    "    return template    "
   ]
  },
  {
   "cell_type": "code",
   "execution_count": 6,
   "id": "demonstrated-vintage",
   "metadata": {},
   "outputs": [],
   "source": [
    "#export\n",
    "\n",
    "def read_settings():\n",
    "    '''Read settings file at \"~/.peptide/settings.yaml\", if doesnt exist, create it from template.'''\n",
    "    settings_dir = f'{Path.home()}/.peptide'\n",
    "    settings_file = Path(f'{settings_dir}/settings.yaml')\n",
    "\n",
    "    if not settings_file.exists():\n",
    "        print('No settings file found, so creating from template ..')\n",
    "        settings = Dict(settings_template())\n",
    "        Path.mkdir(Path(settings_dir), exist_ok=True)\n",
    "        with open(settings_file, 'w') as s:\n",
    "            yaml.dump(settings.to_dict(), s, sort_keys=False, allow_unicode=True)\n",
    "    else:\n",
    "        with open(settings_file, 'r') as s:\n",
    "            settings = Dict(yaml.full_load(s))\n",
    "\n",
    "    # create directories if needed\n",
    "    Path.mkdir(Path(settings.STORES.DATA_STORE), exist_ok=True)\n",
    "    Path.mkdir(Path(settings.STORES.LOG_STORE), exist_ok=True)\n",
    "    Path.mkdir(Path(settings.STORES.MODEL_STORE), exist_ok=True)\n",
    "    Path.mkdir(Path(settings.STORES.EXPERIMENT_STORE), exist_ok=True)\n",
    "\n",
    "    return settings"
   ]
  },
  {
   "cell_type": "markdown",
   "id": "pressing-yacht",
   "metadata": {},
   "source": [
    "## Global Scope Variables"
   ]
  },
  {
   "cell_type": "code",
   "execution_count": 7,
   "id": "directed-yahoo",
   "metadata": {},
   "outputs": [],
   "source": [
    "#exports\n",
    "\n",
    "settings = read_settings()\n",
    "\n",
    "DATA_STORE         = settings.STORES.DATA_STORE\n",
    "LOG_STORE          = settings.STORES.LOG_STORE\n",
    "MODEL_STORE        = settings.STORES.MODEL_STORE\n",
    "EXPERIMENT_STORE   = settings.STORES.EXPERIMENT_STORE"
   ]
  },
  {
   "cell_type": "markdown",
   "id": "distinguished-private",
   "metadata": {},
   "source": [
    "## Copy Datasets Into DataStore\n",
    "- Copy dataset directories into the location pointed to by the `DATASTORE` global variable\n",
    "    - for example `~/.peptide/datasets`\n",
    "- Resulting folder structure will be\n",
    "    - `~/.peptide/datasets/acp/train_data.csv`\n",
    "    - `~/.peptide/datasets/amp/all_data.csv`\n",
    "    - `~/.peptide/datasets/dna_binding/train.csv`\n",
    "    "
   ]
  },
  {
   "cell_type": "markdown",
   "id": "afraid-announcement",
   "metadata": {},
   "source": [
    "## Export -"
   ]
  },
  {
   "cell_type": "code",
   "execution_count": 8,
   "id": "finite-candle",
   "metadata": {},
   "outputs": [
    {
     "name": "stdout",
     "output_type": "stream",
     "text": [
      "Converted 00_basics.ipynb.\n",
      "Converted 01_data.ipynb.\n",
      "Converted 02_learn.ipynb.\n",
      "Converted 03_onehot.ipynb.\n",
      "Converted 04_lstm.ipynb.\n",
      "Converted 05_transformer.ipynb.\n",
      "Converted 99_utils.ipynb.\n",
      "Converted index.ipynb.\n"
     ]
    }
   ],
   "source": [
    "#hide\n",
    "from nbdev.export import *\n",
    "notebook2script()"
   ]
  }
 ],
 "metadata": {
  "kernelspec": {
   "display_name": "Python 3.9.13 ('peptide')",
   "language": "python",
   "name": "python3"
  },
  "language_info": {
   "codemirror_mode": {
    "name": "ipython",
    "version": 3
   },
   "file_extension": ".py",
   "mimetype": "text/x-python",
   "name": "python",
   "nbconvert_exporter": "python",
   "pygments_lexer": "ipython3",
   "version": "3.9.13"
  },
  "vscode": {
   "interpreter": {
    "hash": "ed1fe5d2b8444463e19b00657a175b9cae3e282d841010e10efaed3bb2bffc1a"
   }
  }
 },
 "nbformat": 4,
 "nbformat_minor": 5
}
