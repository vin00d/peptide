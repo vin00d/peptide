{
 "cells": [
  {
   "cell_type": "code",
   "execution_count": null,
   "metadata": {},
   "outputs": [],
   "source": [
    "#hide\n",
    "#from your_lib.core import *"
   ]
  },
  {
   "cell_type": "markdown",
   "metadata": {},
   "source": [
    "# peptide\n",
    "\n",
    "> An ML library for peptide classification using pre-trained embeddings."
   ]
  },
  {
   "cell_type": "markdown",
   "metadata": {},
   "source": [
    "This library demonstrates the performance of a series of classifiers on the task of predicting whether a given amino acid sequence is one or more of the 3 target peptides.<br>\n",
    "Specifically, this library compares the performance of classic ML classifiers trained on vastly different feature representations (of the amino acid sequences) - ranging from One-Hot embeddings to pre-trained embeddings from large protein language models.\n",
    "\n",
    "**Classification Tasks:** Given a sequence of amino acids, classify whether the resulting peptide is one of the following.\n",
    "- Anticancer peptide (ACP)\n",
    "- DNA-binding protein\n",
    "- Antimicrobial peptide (AMP)"
   ]
  },
  {
   "cell_type": "markdown",
   "metadata": {},
   "source": [
    "## Install"
   ]
  },
  {
   "cell_type": "markdown",
   "metadata": {},
   "source": [
    "### peptide\n",
    "1. Git clone the repo.\n",
    "    - https://github.com/vin00d/peptide.git\n",
    "2. Create a new conda environment using the environment.yml file.\n",
    "    - `cd peptide`\n",
    "    - `conda env create -n peptide -f environment.yml`\n",
    "3. To try things out, install this library in editable mode.\n",
    "    - `pip install -e .`\n",
    "\n",
    "### ProSE\n",
    "To create LSTM embeddings ..\n",
    "1. Clone the ProSE repo\n",
    "    - https://github.com/tbepler/prose.git\n",
    "2. Then complete setup instructions for ProSE [detailed on their repo](https://github.com/tbepler/prose#setup-instructions), also summarized below.\n",
    "    - Download pre-trained embedding models.\n",
    "    - Create conda environment and install dependencies.\n",
    "\n",
    "### ESM\n",
    "To create Transformer embeddings ..\n",
    "1. Clone the ESM repo\n",
    "    - https://github.com/facebookresearch/esm.git\n",
    "2. Install ESM and its dependencies [detailed on their repo](https://github.com/facebookresearch/esm#usage-), one option summarized below.\n",
    "    - Create new conda environment with python 3.9\n",
    "    - In that conda environment, pip install `torch` and `fair-esm==0.5.0`"
   ]
  },
  {
   "cell_type": "markdown",
   "metadata": {},
   "source": [
    "## How to use"
   ]
  },
  {
   "cell_type": "markdown",
   "metadata": {},
   "source": [
    "Read through any (or all) of the following quick start guides to get a general idea. Then try running any of them as detailed below:\n",
    "- Option 1: run any of the following jupyter noteboooks in the `nbs` folder.\n",
    "    - `03_onehot.ipynb`\n",
    "    - `04_lstm.ipynb`\n",
    "    - `05_transformer.ipynb`\n",
    "- Option 2: just open a jupyter notebook and copy, paste & run cell-by-cell from any of the following quick start guides.\n",
    "    - [Onehot Embeddings](https://vin00d.github.io/peptide/onehot.html)\n",
    "    - [LSTM Embeddings](https://vin00d.github.io/peptide/lstm.html)\n",
    "    - [Transformer Embeddings](https://vin00d.github.io/peptide/transformer.html)"
   ]
  },
  {
   "cell_type": "markdown",
   "metadata": {},
   "source": [
    "### Settings file and DATASTORE\n",
    "\n",
    "- The steps demonstrated in these notebooks use default locations for datastore, etc as detailed in [Basics](https://vin00d.github.io/peptide/basics.html).\n",
    "- The first cell in every notebook imports these settings for convenience.\n",
    "- So if you intend to use default settings, make sure to place the datasets in the DATASTORE as detailed next.\n",
    "\n",
    ">Note: The settings file and default folder structure will be created by either executing `from peptide.basics import *` in a cell or executing the first cell in any of the above notebooks. This will create a `DATASTORE` variable pointing to the path `~/.peptide/datasets`."
   ]
  },
  {
   "cell_type": "markdown",
   "id": "distinguished-private",
   "metadata": {},
   "source": [
    "### Copy Datasets Into DATASTORE\n",
    "\n",
    "- Copy dataset directories into the location pointed to by the `DATASTORE` global variable.\n",
    "    - for example `~/.peptide/datasets`\n",
    "- Resulting folder structure **must** be\n",
    "    - `~/.peptide/datasets/acp/train_data.csv`\n",
    "    - `~/.peptide/datasets/amp/all_data.csv`\n",
    "    - `~/.peptide/datasets/dna_binding/train.csv`\n",
    "    "
   ]
  },
  {
   "cell_type": "markdown",
   "metadata": {},
   "source": [
    "# References"
   ]
  },
  {
   "cell_type": "markdown",
   "metadata": {},
   "source": [
    "This library is created using the awesome [nbdev v1](https://nbdev1.fast.ai/), soon to be upgraded to [nbdev v2](https://www.fast.ai/2022/07/28/nbdev-v2/).\n",
    "\n",
    "Pretrained embeddings used in this library are from the following papers\n",
    "\n",
    "1. LSTM - Protein Sequence Embeddings (**ProSE**) - Multi-task and masked language model-based protein sequence embedding models - [GitHub](https://github.com/tbepler/prose)\n",
    "    > Bepler, T., Berger, B. Learning the protein language: evolution, structure, and function. Cell Systems 12, 6 (2021). https://doi.org/10.1016/j.cels.2021.05.017\n",
    "    \n",
    "    > Bepler, T., Berger, B. Learning protein sequence embeddings using information from structure. International Conference on Learning Representations (2019). https://openreview.net/pdf?id=SygLehCqtm\n",
    "\n",
    "2. Transformer - Evolutionary Scale Modeling (**ESM**) - [GitHub](https://github.com/facebookresearch/esm)\n",
    "    > Biological structure and function emerge from scaling unsupervised learning to 250 million protein sequences Alexander Rives, Joshua Meier, Tom Sercu, Siddharth Goyal, Zeming Lin, Jason Liu, Demi Guo, Myle Ott, C. Lawrence Zitnick, Jerry Ma, Rob Fergus\n",
    "    > bioRxiv 622803; doi: https://doi.org/10.1101/622803\n"
   ]
  },
  {
   "cell_type": "markdown",
   "metadata": {},
   "source": []
  }
 ],
 "metadata": {
  "kernelspec": {
   "display_name": "Python 3.9.13 ('peptide')",
   "language": "python",
   "name": "python3"
  },
  "language_info": {
   "name": "python",
   "version": "3.9.13"
  },
  "vscode": {
   "interpreter": {
    "hash": "ed1fe5d2b8444463e19b00657a175b9cae3e282d841010e10efaed3bb2bffc1a"
   }
  }
 },
 "nbformat": 4,
 "nbformat_minor": 4
}
