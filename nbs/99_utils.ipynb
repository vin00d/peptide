{
 "cells": [
  {
   "cell_type": "code",
   "execution_count": null,
   "metadata": {},
   "outputs": [],
   "source": [
    "# default_exp utils\n"
   ]
  },
  {
   "cell_type": "code",
   "execution_count": null,
   "id": "52e29651",
   "metadata": {},
   "outputs": [],
   "source": [
    "# all_func\n"
   ]
  },
  {
   "cell_type": "code",
   "execution_count": null,
   "metadata": {},
   "outputs": [],
   "source": [
    "# export\n",
    "\n",
    "from peptide.imports import *\n"
   ]
  },
  {
   "cell_type": "code",
   "execution_count": null,
   "id": "interesting-forest",
   "metadata": {},
   "outputs": [],
   "source": [
    "# hide\n",
    "\n",
    "from nbdev.showdoc import *\n"
   ]
  },
  {
   "cell_type": "markdown",
   "metadata": {},
   "source": [
    "# Utils\n",
    "> Utility functions"
   ]
  },
  {
   "cell_type": "code",
   "execution_count": null,
   "metadata": {},
   "outputs": [],
   "source": [
    "# exports\n",
    "\n",
    "\n",
    "def get_default_param_grid() -> list:\n",
    "    \"\"\"Create and return a default gird search param grid\"\"\"\n",
    "\n",
    "    lr_grid = [\n",
    "        {\n",
    "            \"classifier\": [LogisticRegression()],\n",
    "            \"classifier__solver\": [\"lbfgs\"],\n",
    "            \"classifier__penalty\": [\"l2\"],\n",
    "            \"classifier__C\": np.logspace(-2, 2, 5),  # default=1.0\n",
    "            \"classifier__max_iter\": [1000, 5000, 10000],  # default=100\n",
    "        },\n",
    "        {\n",
    "            \"classifier\": [LogisticRegression()],\n",
    "            \"classifier__solver\": [\"liblinear\"],\n",
    "            \"classifier__penalty\": [\"l1\", \"l2\"],\n",
    "            \"classifier__C\": np.logspace(-2, 2, 5),\n",
    "            \"classifier__max_iter\": [1000, 5000, 10000],\n",
    "        },\n",
    "    ]\n",
    "    svm_grid = [\n",
    "        {\n",
    "            \"classifier\": [LinearSVC()],\n",
    "            \"classifier__loss\": [\"hinge\"],  # default=squared_hinge\n",
    "            \"classifier__penalty\": [\"l2\"],  # default=l2\n",
    "            \"classifier__C\": np.logspace(-2, 2, 5),  # default=1.0\n",
    "            \"classifier__max_iter\": [10000, 20000],  # default=1000\n",
    "        },\n",
    "        {\n",
    "            \"classifier\": [LinearSVC()],\n",
    "            \"classifier__loss\": [\"squared_hinge\"],\n",
    "            \"classifier__penalty\": [\"l1\", \"l2\"],\n",
    "            \"classifier__C\": np.logspace(-2, 2, 5),\n",
    "            \"classifier__max_iter\": [10000, 20000],\n",
    "        },\n",
    "    ]\n",
    "    xgb_grid = [\n",
    "        {\n",
    "            \"classifier\": [XGBClassifier()],\n",
    "            # \"classifier__gamma\": (5, 10),\n",
    "            \"classifier__learning_rate\": np.linspace(0.03, 0.3, 4),  # default 0.1\n",
    "            \"classifier__max_depth\": [3, 4, 5, 6],  # default 6\n",
    "            \"classifier__n_estimators\": [100, 300],  # default 100\n",
    "            # \"classifier__subsample\": (0.5, 1),\n",
    "        }\n",
    "    ]\n",
    "\n",
    "    return [lr_grid, svm_grid, xgb_grid]\n"
   ]
  },
  {
   "cell_type": "code",
   "execution_count": null,
   "metadata": {},
   "outputs": [],
   "source": [
    "# export\n",
    "\n",
    "\n",
    "def visualize_2pcs(\n",
    "    pcs: np.ndarray,  # dimensionality reduced 'X' numpy ndarray\n",
    "    y: np.ndarray,  # 'y' numpy array\n",
    ") -> None:\n",
    "    \"\"\"Visualize 2 principal components.\"\"\"\n",
    "    fig, ax = plt.subplots(figsize=(10, 5))\n",
    "    plot = plt.scatter(pcs[:, 0], pcs[:, 1], c=y, marker=\".\")\n",
    "    ax.set_xlabel(\"PC 1\")\n",
    "    ax.set_ylabel(\"PC 2\")\n",
    "    ax.legend(handles=plot.legend_elements()[0], labels=[\"No\", \"Yes\"])\n"
   ]
  },
  {
   "cell_type": "code",
   "execution_count": null,
   "metadata": {},
   "outputs": [
    {
     "data": {
      "text/markdown": [
       "<h4 id=\"visualize_2pcs\" class=\"doc_header\"><code>visualize_2pcs</code><a href=\"__main__.py#L4\" class=\"source_link\" style=\"float:right\">[source]</a></h4>\n",
       "\n",
       "> <code>visualize_2pcs</code>(**`pcs`**:`ndarray`, **`y`**:`ndarray`)\n",
       "\n",
       "```\n",
       "Visualize 2 principal components.\n",
       "```\n",
       "\n",
       "||Type|Default|Details|\n",
       "|---|---|---|---|\n",
       "|**`pcs`**|`ndarray`||dimensionality reduced 'X' numpy ndarray|\n",
       "|**`y`**|`ndarray`||'y' numpy array|\n"
      ],
      "text/plain": [
       "<IPython.core.display.Markdown object>"
      ]
     },
     "metadata": {},
     "output_type": "display_data"
    }
   ],
   "source": [
    "show_doc(visualize_2pcs, show_all_docments=True)"
   ]
  },
  {
   "cell_type": "code",
   "execution_count": null,
   "metadata": {},
   "outputs": [],
   "source": [
    "# export\n",
    "\n",
    "\n",
    "def visualize_3pcs(\n",
    "    pcs: np.ndarray,  # dimensionality reduced 'X' numpy ndarray\n",
    "    y: np.ndarray  # 'y' numpy array\n",
    ") -> None:\n",
    "    \"\"\"Visualize 3 principal components.\"\"\"\n",
    "    fig, ax = plt.subplots(figsize=(10, 5))\n",
    "    ax = fig.add_subplot(projection=\"3d\")\n",
    "    plot = ax.scatter(pcs[:, 0], pcs[:, 1], pcs[:, 2], c=y)\n",
    "    ax.set_xlabel(\"PC 1\")\n",
    "    ax.set_ylabel(\"PC 2\")\n",
    "    ax.set_zlabel(\"PC 3\")\n",
    "    ax.legend(handles=plot.legend_elements()[0], labels=[\"No\", \"Yes\"])\n"
   ]
  },
  {
   "cell_type": "code",
   "execution_count": null,
   "metadata": {},
   "outputs": [
    {
     "data": {
      "text/markdown": [
       "<h4 id=\"visualize_3pcs\" class=\"doc_header\"><code>visualize_3pcs</code><a href=\"__main__.py#L4\" class=\"source_link\" style=\"float:right\">[source]</a></h4>\n",
       "\n",
       "> <code>visualize_3pcs</code>(**`pcs`**:`ndarray`, **`y`**:`ndarray`)\n",
       "\n",
       "```\n",
       "Visualize 3 principal components.\n",
       "```\n",
       "\n",
       "||Type|Default|Details|\n",
       "|---|---|---|---|\n",
       "|**`pcs`**|`ndarray`||dimensionality reduced 'X' numpy ndarray|\n",
       "|**`y`**|`ndarray`||'y' numpy array|\n"
      ],
      "text/plain": [
       "<IPython.core.display.Markdown object>"
      ]
     },
     "metadata": {},
     "output_type": "display_data"
    }
   ],
   "source": [
    "show_doc(visualize_3pcs, show_all_docments=True)"
   ]
  },
  {
   "cell_type": "code",
   "execution_count": null,
   "metadata": {},
   "outputs": [],
   "source": [
    "# export\n",
    "\n",
    "\n",
    "def train_predict(\n",
    "    X_train: np.ndarray, \n",
    "    y_train: np.ndarray, \n",
    "    X_test: np.ndarray, \n",
    "    y_test: np.ndarray\n",
    ") -> pd.DataFrame:\n",
    "    \"\"\"Utility helper function to quickly train and predict\"\"\"\n",
    "\n",
    "    lr = LogisticRegression(max_iter=10000)\n",
    "    lr.fit(X_train, y_train)\n",
    "\n",
    "    svc = LinearSVC(max_iter=10000)\n",
    "    svc.fit(X_train, y_train)\n",
    "\n",
    "    xgb = XGBClassifier()\n",
    "    xgb.fit(X_train, y_train)\n",
    "\n",
    "    lr_preds = lr.predict(X_test)\n",
    "    svc_preds = svc.predict(X_test)\n",
    "    xgb_preds = xgb.predict(X_test)\n",
    "\n",
    "    scores = []\n",
    "    for preds in [lr_preds, svc_preds, xgb_preds]:\n",
    "        scores.append(\n",
    "            [\n",
    "                accuracy_score(y_test, preds),\n",
    "                recall_score(y_test, preds),\n",
    "                precision_score(y_test, preds),\n",
    "                f1_score(y_test, preds),\n",
    "            ]\n",
    "        )\n",
    "\n",
    "    return pd.DataFrame(\n",
    "        scores, columns=[\"acc\", \"recall\", \"precision\", \"f1\"], index=[\"lr\", \"svc\", \"xgb\"]\n",
    "    )\n"
   ]
  },
  {
   "cell_type": "code",
   "execution_count": null,
   "metadata": {},
   "outputs": [
    {
     "data": {
      "text/markdown": [
       "<h4 id=\"train_predict\" class=\"doc_header\"><code>train_predict</code><a href=\"__main__.py#L4\" class=\"source_link\" style=\"float:right\">[source]</a></h4>\n",
       "\n",
       "> <code>train_predict</code>(**`X_train`**:`ndarray`, **`y_train`**:`ndarray`, **`X_test`**:`ndarray`, **`y_test`**:`ndarray`)\n",
       "\n",
       "```\n",
       "Utility helper function to quickly train and predict\n",
       "```\n",
       "\n",
       "||Type|Default|\n",
       "|---|---|---|\n",
       "|**`X_train`**|`ndarray`||\n",
       "|**`y_train`**|`ndarray`||\n",
       "|**`X_test`**|`ndarray`||\n",
       "|**`y_test`**|`ndarray`||\n"
      ],
      "text/plain": [
       "<IPython.core.display.Markdown object>"
      ]
     },
     "metadata": {},
     "output_type": "display_data"
    }
   ],
   "source": [
    "show_doc(train_predict, show_all_docments=True)"
   ]
  },
  {
   "cell_type": "code",
   "execution_count": null,
   "metadata": {},
   "outputs": [],
   "source": [
    "# export\n",
    "\n",
    "\n",
    "def visualize_elbow(\n",
    "    X: np.ndarray,  # 'X' numpy ndarray\n",
    "    ks: list,  # list of 'k' values to try - ideally 2 to 10\n",
    "    random_state: int = 10  # random state for KMeans\n",
    ") -> None:\n",
    "    \"\"\"Visualize elbow plot for KMeans.\"\"\"\n",
    "\n",
    "    fig, ax = plt.subplots()\n",
    "    inertias = []\n",
    "    for k in ks:\n",
    "        kmeans = KMeans(n_clusters=k, random_state=random_state).fit(X)\n",
    "        inertias.append(kmeans.inertia_)\n",
    "    plt.plot(ks, inertias)\n",
    "    plt.xticks(ks)\n",
    "    plt.xlabel(\"Number of clusters\")\n",
    "    plt.ylabel(\"Inertia\")\n",
    "    plt.title(\"Elbow plot\")\n"
   ]
  },
  {
   "cell_type": "code",
   "execution_count": null,
   "metadata": {},
   "outputs": [
    {
     "data": {
      "text/markdown": [
       "<h4 id=\"visualize_elbow\" class=\"doc_header\"><code>visualize_elbow</code><a href=\"__main__.py#L4\" class=\"source_link\" style=\"float:right\">[source]</a></h4>\n",
       "\n",
       "> <code>visualize_elbow</code>(**`X`**:`ndarray`, **`ks`**:`list`, **`random_state`**:`int`=*`10`*)\n",
       "\n",
       "```\n",
       "Visualize elbow plot for KMeans.\n",
       "```\n",
       "\n",
       "||Type|Default|Details|\n",
       "|---|---|---|---|\n",
       "|**`X`**|`ndarray`||'X' numpy ndarray|\n",
       "|**`ks`**|`list`||list of 'k' values to try - ideally 2 to 10|\n",
       "|**`random_state`**|`int`|`10`|random state for KMeans|\n"
      ],
      "text/plain": [
       "<IPython.core.display.Markdown object>"
      ]
     },
     "metadata": {},
     "output_type": "display_data"
    }
   ],
   "source": [
    "show_doc(visualize_elbow)"
   ]
  },
  {
   "cell_type": "code",
   "execution_count": null,
   "metadata": {},
   "outputs": [],
   "source": [
    "# export\n",
    "\n",
    "\n",
    "def plot_silhouette_scores(\n",
    "    max_clusters: int,  # max value for 'k' for KMeans clustering\n",
    "    X: np.ndarray,   # the 'X' numpy ndarray\n",
    "    random_state: int = 10  # random state for KMeans\n",
    ") -> None:\n",
    "    \"\"\"List and plot silhouette scores for KMeans.\"\"\"\n",
    "\n",
    "    silhouette_scores, clusters = [], []\n",
    "\n",
    "    for n_clusters in range(2, max_clusters + 1):\n",
    "        clusterer = KMeans(n_clusters=n_clusters, random_state=random_state)\n",
    "        cluster_labels = clusterer.fit_predict(X)\n",
    "        silhouette_avg = silhouette_score(X, cluster_labels)\n",
    "        clusters.append(n_clusters)\n",
    "        silhouette_scores.append(silhouette_avg)\n",
    "        print(f\"n_clusters: {n_clusters} -- avg silhouette score: {silhouette_avg}\")\n",
    "\n",
    "    # plot\n",
    "    fig, ax = plt.subplots()\n",
    "    plt.plot(clusters, silhouette_scores)\n",
    "    plt.xticks(clusters)\n",
    "    plt.xlabel(\"Number of clusters\")\n",
    "    plt.ylabel(\"Silhouette scores\")\n",
    "    plt.title(\"Silhoutte Scores vs Clusters\")\n"
   ]
  },
  {
   "cell_type": "code",
   "execution_count": null,
   "metadata": {},
   "outputs": [
    {
     "data": {
      "text/markdown": [
       "<h4 id=\"plot_silhouette_scores\" class=\"doc_header\"><code>plot_silhouette_scores</code><a href=\"__main__.py#L4\" class=\"source_link\" style=\"float:right\">[source]</a></h4>\n",
       "\n",
       "> <code>plot_silhouette_scores</code>(**`max_clusters`**:`int`, **`X`**:`ndarray`, **`random_state`**:`int`=*`10`*)\n",
       "\n",
       "```\n",
       "List and plot silhouette scores for KMeans.\n",
       "```\n",
       "\n",
       "||Type|Default|Details|\n",
       "|---|---|---|---|\n",
       "|**`max_clusters`**|`int`||max value for 'k' for KMeans clustering|\n",
       "|**`X`**|`ndarray`||the 'X' numpy ndarray|\n",
       "|**`random_state`**|`int`|`10`|random state for KMeans|\n"
      ],
      "text/plain": [
       "<IPython.core.display.Markdown object>"
      ]
     },
     "metadata": {},
     "output_type": "display_data"
    }
   ],
   "source": [
    "show_doc(plot_silhouette_scores)"
   ]
  },
  {
   "cell_type": "code",
   "execution_count": null,
   "metadata": {},
   "outputs": [],
   "source": [
    "# export\n",
    "\n",
    "\n",
    "def visualize_clusters(\n",
    "    clust_lbls: np.ndarray,  # cluster labels after KMeans fitting\n",
    "    X: np.ndarray  # dim reduced X used for KMeans\n",
    ") -> None:\n",
    "    \"\"\"Visualize clusters in a plot of first 2 principal components.\"\"\"\n",
    "\n",
    "    X_plot = pd.DataFrame(X[:, :2], columns=[\"pc1\", \"pc2\"])\n",
    "    X_plot[\"cluster_id\"] = clust_lbls\n",
    "    plt.figure(figsize=(12, 5))\n",
    "    sns.scatterplot(\n",
    "        data=X_plot,\n",
    "        x=X_plot[\"pc1\"],\n",
    "        y=X_plot[\"pc2\"],\n",
    "        hue=\"cluster_id\",\n",
    "        palette=\"deep\",\n",
    "        legend=True,\n",
    "    )\n"
   ]
  },
  {
   "cell_type": "code",
   "execution_count": null,
   "metadata": {},
   "outputs": [
    {
     "data": {
      "text/markdown": [
       "<h4 id=\"visualize_clusters\" class=\"doc_header\"><code>visualize_clusters</code><a href=\"__main__.py#L4\" class=\"source_link\" style=\"float:right\">[source]</a></h4>\n",
       "\n",
       "> <code>visualize_clusters</code>(**`clust_lbls`**:`ndarray`, **`X`**:`ndarray`)\n",
       "\n",
       "```\n",
       "Visualize clusters in a plot of first 2 principal components.\n",
       "```\n",
       "\n",
       "||Type|Default|Details|\n",
       "|---|---|---|---|\n",
       "|**`clust_lbls`**|`ndarray`||cluster labels after KMeans fitting|\n",
       "|**`X`**|`ndarray`||dim reduced X used for KMeans|\n"
      ],
      "text/plain": [
       "<IPython.core.display.Markdown object>"
      ]
     },
     "metadata": {},
     "output_type": "display_data"
    }
   ],
   "source": [
    "show_doc(visualize_clusters)"
   ]
  },
  {
   "cell_type": "markdown",
   "id": "afraid-announcement",
   "metadata": {},
   "source": [
    "## Export -"
   ]
  },
  {
   "cell_type": "code",
   "execution_count": null,
   "id": "finite-candle",
   "metadata": {},
   "outputs": [
    {
     "name": "stdout",
     "output_type": "stream",
     "text": [
      "Converted 00_basics.ipynb.\n",
      "Converted 01_data.ipynb.\n",
      "Converted 02_learn.ipynb.\n",
      "Converted 03_onehot.ipynb.\n",
      "Converted 04_lstm.ipynb.\n",
      "Converted 05_transformer.ipynb.\n",
      "Converted 99_utils.ipynb.\n",
      "Converted index.ipynb.\n"
     ]
    }
   ],
   "source": [
    "# hide\n",
    "from nbdev.export import *\n",
    "\n",
    "notebook2script()\n"
   ]
  },
  {
   "cell_type": "code",
   "execution_count": null,
   "metadata": {},
   "outputs": [],
   "source": []
  }
 ],
 "metadata": {
  "kernelspec": {
   "display_name": "Python 3.9.7 ('peptide')",
   "language": "python",
   "name": "python3"
  }
 },
 "nbformat": 4,
 "nbformat_minor": 2
}
