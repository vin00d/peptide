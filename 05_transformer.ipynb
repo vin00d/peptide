{
 "cells": [
  {
   "cell_type": "code",
   "execution_count": 1,
   "metadata": {},
   "outputs": [],
   "source": [
    "# default_exp transformer"
   ]
  },
  {
   "cell_type": "code",
   "execution_count": 2,
   "metadata": {},
   "outputs": [],
   "source": [
    "# all_func\n"
   ]
  },
  {
   "cell_type": "markdown",
   "metadata": {},
   "source": [
    "# Transformer Embeddings\n",
    "\n",
    "> Functions to train and evaluate ML models on embeddings from a pretrained Transformer."
   ]
  },
  {
   "cell_type": "markdown",
   "metadata": {},
   "source": [
    "Details of the pretrained model:\n",
    "\n",
    "Protein Sequence Embeddings (ProSE)\n",
    "- Multi-task and masked language model-based protein sequence embedding models.\n",
    "- https://github.com/tbepler/prose"
   ]
  },
  {
   "cell_type": "code",
   "execution_count": 3,
   "metadata": {},
   "outputs": [],
   "source": [
    "# export\n",
    "\n",
    "from peptide.imports import *\n",
    "from peptide.basics import *\n",
    "from peptide.core import *\n",
    "from peptide.data import (\n",
    "    ACPDataset,\n",
    "    AMPDataset,\n",
    "    DNABindDataset,\n",
    ")"
   ]
  },
  {
   "cell_type": "code",
   "execution_count": 4,
   "metadata": {},
   "outputs": [],
   "source": [
    "# import scipy\n",
    "# from sklearn.model_selection import GridSearchCV, train_test_split\n",
    "# from sklearn.decomposition import PCA\n",
    "# from sklearn.neighbors import KNeighborsClassifier, KNeighborsRegressor\n",
    "# from sklearn.svm import LinearSVC\n",
    "# from sklearn.ensemble import RandomForestClassifier, RandomForestRegressor\n",
    "# from sklearn.naive_bayes import GaussianNB\n",
    "# from sklearn.linear_model import LogisticRegression, SGDRegressor\n",
    "# from sklearn.pipeline import Pipeline\n",
    "# from sklearn.metrics import classification_report, accuracy_score, recall_score, precision_score, f1_score\n",
    "\n",
    "# from xgboost import XGBClassifier"
   ]
  },
  {
   "cell_type": "code",
   "execution_count": 5,
   "metadata": {},
   "outputs": [],
   "source": [
    "acp_data = ACPDataset(DATA_STORE)\n",
    "amp_data = AMPDataset(DATA_STORE)\n",
    "dnabind_data = DNABindDataset(DATA_STORE)"
   ]
  },
  {
   "cell_type": "markdown",
   "metadata": {},
   "source": [
    "## ESM"
   ]
  },
  {
   "cell_type": "markdown",
   "metadata": {},
   "source": [
    "### Create embeddings (in bulk) from fasta"
   ]
  },
  {
   "cell_type": "markdown",
   "metadata": {},
   "source": [
    "**ACP**\n",
    "```\n",
    "python scripts/extract.py esm1b_t33_650M_UR50S ~/.peptide/datasets/fasta/ACPDataset_train.fasta  ~/.peptide/datasets/transformer/mean/acp/train/ \\    \n",
    "    --repr_layers 33 --include mean\n",
    "Transferred model to GPU\n",
    "Read /home/vinod/.peptide/datasets/fasta/ACPDataset_train.fasta with 1378 sequences\n",
    "Processing 1 of 10 batches (292 sequences)\n",
    "Processing 2 of 10 batches (215 sequences)\n",
    "Processing 3 of 10 batches (178 sequences)\n",
    "Processing 4 of 10 batches (157 sequences)\n",
    "Processing 5 of 10 batches (132 sequences)\n",
    "Processing 6 of 10 batches (117 sequences)\n",
    "Processing 7 of 10 batches (105 sequences)\n",
    "Processing 8 of 10 batches (91 sequences)\n",
    "Processing 9 of 10 batches (80 sequences)\n",
    "Processing 10 of 10 batches (11 sequences)\n",
    "```"
   ]
  },
  {
   "cell_type": "markdown",
   "metadata": {},
   "source": [
    "**AMP**\n",
    "```\n",
    "python scripts/extract.py esm1b_t33_650M_UR50S ~/.peptide/datasets/fasta/AMPDataset_test.fasta  ~/.peptide/datasets/transformer/mean/amp/test \\\n",
    "    --repr_layers 33 --include mean\n",
    "Transferred model to GPU\n",
    "Read /home/vinod/.peptide/datasets/fasta/AMPDataset_test.fasta with 808 sequences\n",
    "Processing 1 of 9 batches (204 sequences)\n",
    "Processing 2 of 9 batches (157 sequences)\n",
    "Processing 3 of 9 batches (124 sequences)\n",
    "Processing 4 of 9 batches (102 sequences)\n",
    "Processing 5 of 9 batches (85 sequences)\n",
    "Processing 6 of 9 batches (63 sequences)\n",
    "Processing 7 of 9 batches (44 sequences)\n",
    "Processing 8 of 9 batches (26 sequences)\n",
    "Processing 9 of 9 batches (3 sequences)\n",
    "```"
   ]
  },
  {
   "cell_type": "markdown",
   "metadata": {},
   "source": [
    "### Get embeddings\n",
    "- From ESM Example - https://github.com/facebookresearch/esm/blob/main/examples/sup_variant_prediction.ipynb"
   ]
  },
  {
   "cell_type": "code",
   "execution_count": 37,
   "metadata": {},
   "outputs": [],
   "source": [
    "def get_embeddings(fasta_path, emb_path, emb_layer):\n",
    "    ys = []\n",
    "    Xs = []\n",
    "    for header, _seq in esm.data.read_fasta(fasta_path):\n",
    "        label = header.split('|')[-1]\n",
    "        ys.append(int(label))\n",
    "        emb_file = f'{emb_path}/{header[1:]}.pt'\n",
    "        embs = torch.load(emb_file)\n",
    "        Xs.append(embs['mean_representations'][emb_layer])\n",
    "    Xs = np.stack(Xs, axis=0)\n",
    "    ys = np.stack(ys, axis=0)\n",
    "    return Xs, ys"
   ]
  },
  {
   "cell_type": "markdown",
   "metadata": {},
   "source": [
    "## AMP - PCA vs Full"
   ]
  },
  {
   "cell_type": "code",
   "execution_count": 6,
   "id": "01e1708a",
   "metadata": {},
   "outputs": [],
   "source": [
    "X_train, y_train, X_test, y_test = amp_data.get_transformer_emb('amp_train.fasta', 'amp_test.fasta')"
   ]
  },
  {
   "cell_type": "code",
   "execution_count": 7,
   "id": "be102ea4",
   "metadata": {},
   "outputs": [
    {
     "data": {
      "text/plain": [
       "((3234, 1280), (3234,), (808, 1280), (808,))"
      ]
     },
     "execution_count": 7,
     "metadata": {},
     "output_type": "execute_result"
    }
   ],
   "source": [
    "X_train.shape, y_train.shape, X_test.shape, y_test.shape"
   ]
  },
  {
   "cell_type": "code",
   "execution_count": 8,
   "metadata": {},
   "outputs": [
    {
     "name": "stdout",
     "output_type": "stream",
     "text": [
      "X_train_pca.shape: (3234, 50)\n",
      "Explained variance ratio of the first 10 principal components:\n",
      "[0.30945256 0.10213933 0.07445058 0.05638569 0.03746958 0.0242152\n",
      " 0.02043873 0.01840375 0.01650792 0.01428879]\n"
     ]
    }
   ],
   "source": [
    "pca = PCA(n_components=50)\n",
    "X_train_pca = pca.fit_transform(X_train)\n",
    "print(f'X_train_pca.shape: {X_train_pca.shape}')\n",
    "print(\n",
    "    f\"Explained variance ratio of the first 10 principal components:\\n{pca.explained_variance_ratio_[:10]}\"\n",
    ")"
   ]
  },
  {
   "cell_type": "code",
   "execution_count": 9,
   "metadata": {},
   "outputs": [
    {
     "data": {
      "image/png": "[encoded data removed]",
      "text/plain": [
       "<Figure size 720x360 with 1 Axes>"
      ]
     },
     "metadata": {
      "needs_background": "light"
     },
     "output_type": "display_data"
    }
   ],
   "source": [
    "visualize_2pcas(X_train_pca, y_train)"
   ]
  },
  {
   "cell_type": "code",
   "execution_count": 10,
   "metadata": {},
   "outputs": [
    {
     "data": {
      "image/png": "[encoded data removed]",
      "text/plain": [
       "<Figure size 720x360 with 2 Axes>"
      ]
     },
     "metadata": {
      "needs_background": "light"
     },
     "output_type": "display_data"
    }
   ],
   "source": [
    "visualize_3pcas(X_train_pca, y_train)"
   ]
  },
  {
   "cell_type": "markdown",
   "metadata": {},
   "source": [
    "Evaluation on full data"
   ]
  },
  {
   "cell_type": "code",
   "execution_count": 11,
   "metadata": {},
   "outputs": [
    {
     "name": "stderr",
     "output_type": "stream",
     "text": [
      "/home/vinod/anaconda3/envs/peptide/lib/python3.9/site-packages/sklearn/svm/_base.py:1225: ConvergenceWarning: Liblinear failed to converge, increase the number of iterations.\n",
      "  warnings.warn(\n"
     ]
    },
    {
     "data": {
      "text/html": [
       "<div>\n",
       "<style scoped>\n",
       "    .dataframe tbody tr th:only-of-type {\n",
       "        vertical-align: middle;\n",
       "    }\n",
       "\n",
       "    .dataframe tbody tr th {\n",
       "        vertical-align: top;\n",
       "    }\n",
       "\n",
       "    .dataframe thead th {\n",
       "        text-align: right;\n",
       "    }\n",
       "</style>\n",
       "<table border=\"1\" class=\"dataframe\">\n",
       "  <thead>\n",
       "    <tr style=\"text-align: right;\">\n",
       "      <th></th>\n",
       "      <th>acc</th>\n",
       "      <th>recall</th>\n",
       "      <th>precision</th>\n",
       "      <th>f1</th>\n",
       "    </tr>\n",
       "  </thead>\n",
       "  <tbody>\n",
       "    <tr>\n",
       "      <th>lr</th>\n",
       "      <td>0.935644</td>\n",
       "      <td>0.909320</td>\n",
       "      <td>0.957560</td>\n",
       "      <td>0.932817</td>\n",
       "    </tr>\n",
       "    <tr>\n",
       "      <th>svc</th>\n",
       "      <td>0.936881</td>\n",
       "      <td>0.926952</td>\n",
       "      <td>0.943590</td>\n",
       "      <td>0.935197</td>\n",
       "    </tr>\n",
       "    <tr>\n",
       "      <th>xgb</th>\n",
       "      <td>0.938119</td>\n",
       "      <td>0.916877</td>\n",
       "      <td>0.955381</td>\n",
       "      <td>0.935733</td>\n",
       "    </tr>\n",
       "  </tbody>\n",
       "</table>\n",
       "</div>"
      ],
      "text/plain": [
       "          acc    recall  precision        f1\n",
       "lr   0.935644  0.909320   0.957560  0.932817\n",
       "svc  0.936881  0.926952   0.943590  0.935197\n",
       "xgb  0.938119  0.916877   0.955381  0.935733"
      ]
     },
     "execution_count": 11,
     "metadata": {},
     "output_type": "execute_result"
    }
   ],
   "source": [
    "train_predict(X_train, y_train, X_test, y_test)"
   ]
  },
  {
   "cell_type": "markdown",
   "metadata": {},
   "source": [
    "Evaluation on reduced data"
   ]
  },
  {
   "cell_type": "code",
   "execution_count": 12,
   "metadata": {},
   "outputs": [
    {
     "name": "stderr",
     "output_type": "stream",
     "text": [
      "/home/vinod/anaconda3/envs/peptide/lib/python3.9/site-packages/sklearn/svm/_base.py:1225: ConvergenceWarning: Liblinear failed to converge, increase the number of iterations.\n",
      "  warnings.warn(\n"
     ]
    },
    {
     "data": {
      "text/html": [
       "<div>\n",
       "<style scoped>\n",
       "    .dataframe tbody tr th:only-of-type {\n",
       "        vertical-align: middle;\n",
       "    }\n",
       "\n",
       "    .dataframe tbody tr th {\n",
       "        vertical-align: top;\n",
       "    }\n",
       "\n",
       "    .dataframe thead th {\n",
       "        text-align: right;\n",
       "    }\n",
       "</style>\n",
       "<table border=\"1\" class=\"dataframe\">\n",
       "  <thead>\n",
       "    <tr style=\"text-align: right;\">\n",
       "      <th></th>\n",
       "      <th>acc</th>\n",
       "      <th>recall</th>\n",
       "      <th>precision</th>\n",
       "      <th>f1</th>\n",
       "    </tr>\n",
       "  </thead>\n",
       "  <tbody>\n",
       "    <tr>\n",
       "      <th>lr</th>\n",
       "      <td>0.931931</td>\n",
       "      <td>0.904282</td>\n",
       "      <td>0.954787</td>\n",
       "      <td>0.928849</td>\n",
       "    </tr>\n",
       "    <tr>\n",
       "      <th>svc</th>\n",
       "      <td>0.931931</td>\n",
       "      <td>0.901763</td>\n",
       "      <td>0.957219</td>\n",
       "      <td>0.928664</td>\n",
       "    </tr>\n",
       "    <tr>\n",
       "      <th>xgb</th>\n",
       "      <td>0.930693</td>\n",
       "      <td>0.891688</td>\n",
       "      <td>0.964578</td>\n",
       "      <td>0.926702</td>\n",
       "    </tr>\n",
       "  </tbody>\n",
       "</table>\n",
       "</div>"
      ],
      "text/plain": [
       "          acc    recall  precision        f1\n",
       "lr   0.931931  0.904282   0.954787  0.928849\n",
       "svc  0.931931  0.901763   0.957219  0.928664\n",
       "xgb  0.930693  0.891688   0.964578  0.926702"
      ]
     },
     "execution_count": 12,
     "metadata": {},
     "output_type": "execute_result"
    }
   ],
   "source": [
    "X_test_pca = pca.transform(X_test)\n",
    "train_predict(X_train_pca, y_train, X_test_pca, y_test)"
   ]
  },
  {
   "cell_type": "code",
   "execution_count": 21,
   "metadata": {},
   "outputs": [
    {
     "data": {
      "text/html": [
       "<div>\n",
       "<style scoped>\n",
       "    .dataframe tbody tr th:only-of-type {\n",
       "        vertical-align: middle;\n",
       "    }\n",
       "\n",
       "    .dataframe tbody tr th {\n",
       "        vertical-align: top;\n",
       "    }\n",
       "\n",
       "    .dataframe thead th {\n",
       "        text-align: right;\n",
       "    }\n",
       "</style>\n",
       "<table border=\"1\" class=\"dataframe\">\n",
       "  <thead>\n",
       "    <tr style=\"text-align: right;\">\n",
       "      <th></th>\n",
       "      <th>acc</th>\n",
       "      <th>recall</th>\n",
       "      <th>precision</th>\n",
       "      <th>f1</th>\n",
       "    </tr>\n",
       "  </thead>\n",
       "  <tbody>\n",
       "    <tr>\n",
       "      <th>lr</th>\n",
       "      <td>0.935644</td>\n",
       "      <td>0.909320</td>\n",
       "      <td>0.957560</td>\n",
       "      <td>0.932817</td>\n",
       "    </tr>\n",
       "    <tr>\n",
       "      <th>svc</th>\n",
       "      <td>0.936881</td>\n",
       "      <td>0.926952</td>\n",
       "      <td>0.943590</td>\n",
       "      <td>0.935197</td>\n",
       "    </tr>\n",
       "    <tr>\n",
       "      <th>xgb</th>\n",
       "      <td>0.938119</td>\n",
       "      <td>0.916877</td>\n",
       "      <td>0.955381</td>\n",
       "      <td>0.935733</td>\n",
       "    </tr>\n",
       "  </tbody>\n",
       "</table>\n",
       "</div>"
      ],
      "text/plain": [
       "          acc    recall  precision        f1\n",
       "lr   0.935644  0.909320   0.957560  0.932817\n",
       "svc  0.936881  0.926952   0.943590  0.935197\n",
       "xgb  0.938119  0.916877   0.955381  0.935733"
      ]
     },
     "execution_count": 21,
     "metadata": {},
     "output_type": "execute_result"
    }
   ],
   "source": [
    "scores = []\n",
    "for preds in [lr_preds, svc_preds, xgb_preds]:\n",
    "    scores.append(\n",
    "        [\n",
    "            accuracy_score(y_test, preds),\n",
    "            recall_score(y_test, preds),\n",
    "            precision_score(y_test, preds),\n",
    "            f1_score(y_test, preds),\n",
    "        ]\n",
    "    )\n",
    "\n",
    "pd.DataFrame(\n",
    "    scores, columns=[\"acc\", \"recall\", \"precision\", \"f1\"], index=[\"lr\", \"svc\", \"xgb\"]\n",
    ")"
   ]
  },
  {
   "cell_type": "code",
   "execution_count": null,
   "metadata": {},
   "outputs": [],
   "source": []
  }
 ],
 "metadata": {
  "kernelspec": {
   "display_name": "Python 3.9.13 ('peptide')",
   "language": "python",
   "name": "python3"
  },
  "language_info": {
   "codemirror_mode": {
    "name": "ipython",
    "version": 3
   },
   "file_extension": ".py",
   "mimetype": "text/x-python",
   "name": "python",
   "nbconvert_exporter": "python",
   "pygments_lexer": "ipython3",
   "version": "3.9.13"
  },
  "orig_nbformat": 4,
  "vscode": {
   "interpreter": {
    "hash": "ed1fe5d2b8444463e19b00657a175b9cae3e282d841010e10efaed3bb2bffc1a"
   }
  }
 },
 "nbformat": 4,
 "nbformat_minor": 2
}
